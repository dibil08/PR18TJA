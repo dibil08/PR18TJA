{
 "cells": [
  {
   "cell_type": "markdown",
   "metadata": {},
   "source": [
    "Sodelujoči\n",
    "\n",
    "    Tomaž Štrus\n",
    "    Anže Košir\n",
    "    Jan Harej\n",
    "\n",
    "O projektu: Iz platforme Steam, namenjenu predvsem za distrubicijo video iger, bomo zbrali podatke igrah več ljudi, ter analizirali stvari kot so npr. koliko iger, ki jih kupijo dejansko preigrajo, kolika časa bo nekdo zapravil za neko igro, kakšno igro bo kupil naslednjo, glede na svoje igre ipd.\n",
    "\n",
    "Podatki: Uporabili bomo API, ki ga ponuja Steam: https://developer.valvesoftware.com/wiki/Steam_Web_API#JSON Tu lahko dobimo podatko o čisto vsemu kar potrebujemo npr. o uporabniku, njegove igre, prijatelji, koliko ur je igral neko igro, ... Dobili bomo podatke za npr. 100.000+ uporabnikov (prijatelji naših prijateljev, in njihov prijateljev itd.)"
   ]
  },
  {
   "cell_type": "markdown",
   "metadata": {},
   "source": [
    "## Vprašanja za raziskavo\n",
    "1. Povprečno dokončanje igre\n",
    "2. Število in vrsta Bannov v povezavi z javnimi/privatnimi profili\n",
    "3. Najmanjkrat odklenjeni dosežki za igrane igre\n",
    "4. Število prijateljev glede na \"starost\" računa"
   ]
  },
  {
   "cell_type": "code",
   "execution_count": 7,
   "metadata": {},
   "outputs": [
    {
     "data": {
      "text/plain": [
       "'\\n!python -m pip install numpy\\n!python -m pip install matplotlib\\n!python -m pip install requests\\n!python -m pip install aiohttp\\n'"
      ]
     },
     "execution_count": 7,
     "metadata": {},
     "output_type": "execute_result"
    }
   ],
   "source": [
    "#install libraries on windows\n",
    "\"\"\"\n",
    "!python -m pip install numpy\n",
    "!python -m pip install matplotlib\n",
    "!python -m pip install requests\n",
    "!python -m pip install aiohttp\n",
    "\"\"\""
   ]
  },
  {
   "cell_type": "code",
   "execution_count": 10,
   "metadata": {},
   "outputs": [],
   "source": [
    "from scripts.imports import *\n",
    "from scripts.data_variables import *\n",
    "from scripts.gameStats_functions import *\n",
    "from scripts.get_read_write import *"
   ]
  },
  {
   "cell_type": "code",
   "execution_count": 11,
   "metadata": {},
   "outputs": [
    {
     "name": "stdout",
     "output_type": "stream",
     "text": [
      "INFO: reading ids\n",
      "INFO: reading ids finished\n",
      "INFO: reading summaries\n",
      "INFO: reading summaries finished\n",
      "INFO: reading friends\n",
      "INFO: reading friends finished\n",
      "INFO: reading games\n",
      "INFO: reading games finished\n",
      "INFO: reading achievements\n",
      "INFO: reading achievements finished\n",
      "INFO: reading bans\n",
      "INFO: reading bans finished\n",
      "INFO: reading global game stats\n",
      "INFO: reading global game stats finished\n",
      "INFO: reading game names\n",
      "INFO: reading game names finished\n",
      "Current database size: 100000 users\n"
     ]
    }
   ],
   "source": [
    "data = read_all_from_file()\n",
    "player_ids = data[0] \n",
    "player_summaries = data[1]\n",
    "player_friends = data[2]\n",
    "player_games = data[3]\n",
    "player_achievements = data[4]\n",
    "player_bans = data[5]\n",
    "global_game_stats = data[6]\n",
    "game_names= data[7]\n",
    "#player_ids = read_player_ids()\n",
    "print(\"Current database size: {} users\".format(len(player_ids)))\n",
    "#player_summaries = read_player_summaries()\n",
    "#player_friends = read_player_friends()\n",
    "#player_games = read_player_games()\n",
    "#player_bans = read_player_bans()"
   ]
  },
  {
   "cell_type": "code",
   "execution_count": null,
   "metadata": {},
   "outputs": [],
   "source": [
    "#--------------- request player ids from api ------------------ DONE\n",
    "#global_player_ids = set()\n",
    "#fill_player_ids_rec(my_id, 1000)\n",
    "\n",
    "#--------------- request player ids from file -----------------\n",
    "with open(\"data/pid_set.json\", \"r\") as fp:\n",
    "    global_player_ids = set(json.load(fp))\n",
    "    \n",
    "#------------- request player summary from api ---------------- DONE\n",
    "#players_summaries = dict()\n",
    "#fill_players_summaries()\n",
    "\n",
    "#------------- request player summary from file ---------------\n",
    "with open(\"data/player_summaries.json\", \"r\") as fp:\n",
    "    players_summaries = json.load(fp)\n",
    "    \n",
    "#------------- request player friends from api ---------------- DONE\n",
    "#player_friends = dict()\n",
    "#fill_players_friends()\n",
    "\n",
    "#------------- request player friends from file ---------------\n",
    "with open(\"data/player_friends.json\", \"r\") as fp:\n",
    "    player_friends = json.load(fp)\n",
    "\n",
    "#------------ request player game data from api --------------- DONE\n",
    "#player_games = dict()\n",
    "#fill_players_games()\n",
    "\n",
    "#------------ request player game data from file --------------\n",
    "with open(\"data/player_games.json\", \"r\") as fp:\n",
    "    player_games = json.load(fp)\n",
    "\n",
    "\"\"\"\n",
    "#----------------- write player ids to file -------------------\n",
    "with open(\"pid_set.json\", \"w\") as fp:\n",
    "    json.dump(list(global_player_ids), fp)\n",
    "    \n",
    "#--------------- write player summary to file -----------------\n",
    "with open(\"player_summaries.json\", \"w\") as fp:\n",
    "    json.dump(players_summaries, fp)\n",
    "\n",
    "#--------------- write player friends to file -----------------\n",
    "with open(\"player_friends.json\", \"w\") as fp:\n",
    "    json.dump(player_friends, fp)\n",
    "\n",
    "    \n",
    "#--------------- write player games to file -----------------\n",
    "with open(\"player_games.json\", \"w\") as fp:\n",
    "    json.dump(player_games, fp)\n",
    "\"\"\""
   ]
  },
  {
   "cell_type": "code",
   "execution_count": null,
   "metadata": {},
   "outputs": [],
   "source": [
    "#print(players_summaries[\"76561198207785297\"])"
   ]
  },
  {
   "cell_type": "markdown",
   "metadata": {},
   "source": [
    "# Odgovori na vprašanja"
   ]
  },
  {
   "cell_type": "markdown",
   "metadata": {},
   "source": [
    "### 1. Povprečno dokončanje igre"
   ]
  },
  {
   "cell_type": "code",
   "execution_count": null,
   "metadata": {},
   "outputs": [],
   "source": []
  },
  {
   "cell_type": "markdown",
   "metadata": {},
   "source": [
    "### 2. Število in vrsta Bannov v povezavi z javnimi/privatnimi profili"
   ]
  },
  {
   "cell_type": "code",
   "execution_count": null,
   "metadata": {},
   "outputs": [],
   "source": []
  },
  {
   "cell_type": "markdown",
   "metadata": {},
   "source": [
    "### 3. Najmanjkrat odklenjeni dosežki za igrane igre"
   ]
  },
  {
   "cell_type": "code",
   "execution_count": null,
   "metadata": {},
   "outputs": [],
   "source": []
  },
  {
   "cell_type": "markdown",
   "metadata": {},
   "source": [
    "### 4. Število prijateljev glede na \"starost\" računa"
   ]
  },
  {
   "cell_type": "code",
   "execution_count": null,
   "metadata": {},
   "outputs": [],
   "source": [
    "graph = collections.defaultdict(int)\n",
    "today = datetime.datetime.now()\n",
    "treshold = 1\n",
    "treshold *= round(365 / 7)\n",
    "\n",
    "for player_id in global_player_ids:\n",
    "    try:\n",
    "        time_created = int(players_summaries[player_id][\"timecreated\"])\n",
    "    except KeyError:\n",
    "        continue\n",
    "    \n",
    "    for tmp_friend in player_friends[player_id]:\n",
    "        time_diff = tmp_friend[\"friend_since\"] - time_created\n",
    "        weeks = round(time_diff / (3600 * 24 *7))\n",
    "        \n",
    "        # If the player made this friend in the first year (since the account was created)\n",
    "        if 0 < weeks <= 52:\n",
    "            graph[weeks] += 1\n",
    "\n",
    "graph_x = []\n",
    "graph_y = []\n",
    "\n",
    "for week in sorted(graph):\n",
    "    graph_x += [week]\n",
    "    graph_y += [graph[week]]\n",
    "\n",
    "fig = plt.figure()\n",
    "axes = fig.add_axes([0.1, 0.1, 2, 1])\n",
    "axes.bar(graph_x, graph_y)\n",
    "axes.set_ylabel('št. prijateljev')\n",
    "axes.set_xlabel('starost računa (tedni)')"
   ]
  },
  {
   "cell_type": "markdown",
   "metadata": {},
   "source": [
    "## 5. Odvisnost med težavnostjo igre in njenim uspehom"
   ]
  },
  {
   "cell_type": "code",
   "execution_count": null,
   "metadata": {},
   "outputs": [],
   "source": []
  }
 ],
 "metadata": {
  "kernelspec": {
   "display_name": "Python 3",
   "language": "python",
   "name": "python3"
  },
  "language_info": {
   "codemirror_mode": {
    "name": "ipython",
    "version": 3
   },
   "file_extension": ".py",
   "mimetype": "text/x-python",
   "name": "python",
   "nbconvert_exporter": "python",
   "pygments_lexer": "ipython3",
   "version": "3.5.2"
  }
 },
 "nbformat": 4,
 "nbformat_minor": 2
}
