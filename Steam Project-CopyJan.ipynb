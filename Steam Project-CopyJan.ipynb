{
 "cells": [
  {
   "cell_type": "markdown",
   "metadata": {},
   "source": [
    "Sodelujoči\n",
    "\n",
    "    Tomaž Štrus\n",
    "    Anže Košir\n",
    "    Jan Harej\n",
    "\n",
    "O projektu: Iz platforme Steam, namenjenu predvsem za distrubicijo video iger, bomo zbrali podatke igrah več ljudi, ter analizirali stvari kot so npr. koliko iger, ki jih kupijo dejansko preigrajo, kolika časa bo nekdo zapravil za neko igro, kakšno igro bo kupil naslednjo, glede na svoje igre ipd.\n",
    "\n",
    "Podatki: Uporabili bomo API, ki ga ponuja Steam: https://developer.valvesoftware.com/wiki/Steam_Web_API#JSON Tu lahko dobimo podatko o čisto vsemu kar potrebujemo npr. o uporabniku, njegove igre, prijatelji, koliko ur je igral neko igro, ... Dobili bomo podatke za npr. 100.000+ uporabnikov (prijatelji naših prijateljev, in njihov prijateljev itd.)"
   ]
  },
  {
   "cell_type": "markdown",
   "metadata": {},
   "source": [
    "## Vprašanja za raziskavo\n",
    "1. Povprečno dokončanje igre\n",
    "2. Število in vrsta Bannov v povezavi z javnimi/privatnimi profili\n",
    "3. Najmanjkrat odklenjeni dosežki za igrane igre\n",
    "4. Število prijateljev glede na \"starost\" računa"
   ]
  },
  {
   "cell_type": "code",
   "execution_count": 13,
   "metadata": {},
   "outputs": [
    {
     "data": {
      "text/plain": [
       "'\\n!python -m pip install numpy\\n!python -m pip install matplotlib\\n!python -m pip install requests\\n!python -m pip install aiohttp\\n'"
      ]
     },
     "execution_count": 13,
     "metadata": {},
     "output_type": "execute_result"
    }
   ],
   "source": [
    "#install libraries on windows\n",
    "\"\"\"\n",
    "!python -m pip install numpy\n",
    "!python -m pip install matplotlib\n",
    "!python -m pip install requests\n",
    "!python -m pip install aiohttp\n",
    "\"\"\""
   ]
  },
  {
   "cell_type": "code",
   "execution_count": 14,
   "metadata": {},
   "outputs": [],
   "source": [
    "from scripts.imports import *\n",
    "from scripts.data_variables import *\n",
    "from scripts.gameStats_functions import *\n",
    "from scripts.get_read_write import *"
   ]
  },
  {
   "cell_type": "code",
   "execution_count": 15,
   "metadata": {},
   "outputs": [
    {
     "name": "stdout",
     "output_type": "stream",
     "text": [
      "INFO: reading ids\n",
      "INFO: reading ids finished\n",
      "INFO: reading summaries\n",
      "INFO: reading summaries finished\n",
      "INFO: reading friends\n",
      "INFO: reading friends finished\n",
      "INFO: reading games\n",
      "INFO: reading games finished\n",
      "INFO: reading achievements\n",
      "INFO: reading achievements finished\n",
      "INFO: reading bans\n",
      "INFO: reading bans finished\n",
      "INFO: reading global game stats\n",
      "INFO: reading global game stats finished\n",
      "INFO: reading game names\n",
      "INFO: reading game names finished\n",
      "Current database size: 100000 users\n"
     ]
    }
   ],
   "source": [
    "data = read_all_from_file()\n",
    "player_ids = data[0] \n",
    "player_summaries = data[1]\n",
    "player_friends = data[2]\n",
    "player_games = data[3]\n",
    "player_achievements = data[4]\n",
    "player_bans = data[5]\n",
    "global_game_stats = data[6]\n",
    "game_names= data[7]\n",
    "#player_ids = read_player_ids()\n",
    "print(\"Current database size: {} users\".format(len(player_ids)))\n",
    "#player_summaries = read_player_summaries()\n",
    "#player_friends = read_player_friends()\n",
    "#player_games = read_player_games()\n",
    "#player_bans = read_player_bans()"
   ]
  },
  {
   "cell_type": "markdown",
   "metadata": {},
   "source": [
    "# Odgovori na vprašanja"
   ]
  },
  {
   "cell_type": "markdown",
   "metadata": {},
   "source": [
    "### 1. Povprečno dokončanje igre"
   ]
  },
  {
   "cell_type": "code",
   "execution_count": null,
   "metadata": {},
   "outputs": [],
   "source": []
  },
  {
   "cell_type": "markdown",
   "metadata": {},
   "source": [
    "### 2. Število in vrsta Bannov v povezavi z javnimi/privatnimi profili"
   ]
  },
  {
   "cell_type": "code",
   "execution_count": null,
   "metadata": {},
   "outputs": [],
   "source": []
  },
  {
   "cell_type": "markdown",
   "metadata": {},
   "source": [
    "### 3. Najmanjkrat odklenjeni dosežki za igrane igre"
   ]
  },
  {
   "cell_type": "code",
   "execution_count": null,
   "metadata": {},
   "outputs": [],
   "source": []
  },
  {
   "cell_type": "markdown",
   "metadata": {},
   "source": [
    "### 4. Število prijateljev glede na \"starost\" računa"
   ]
  },
  {
   "cell_type": "code",
   "execution_count": 12,
   "metadata": {},
   "outputs": [
    {
     "ename": "NameError",
     "evalue": "name 'collections' is not defined",
     "output_type": "error",
     "traceback": [
      "\u001b[1;31m---------------------------------------------------------------------------\u001b[0m",
      "\u001b[1;31mNameError\u001b[0m                                 Traceback (most recent call last)",
      "\u001b[1;32m<ipython-input-12-afad9435efd8>\u001b[0m in \u001b[0;36m<module>\u001b[1;34m()\u001b[0m\n\u001b[1;32m----> 1\u001b[1;33m \u001b[0mgraph\u001b[0m \u001b[1;33m=\u001b[0m \u001b[0mcollections\u001b[0m\u001b[1;33m.\u001b[0m\u001b[0mdefaultdict\u001b[0m\u001b[1;33m(\u001b[0m\u001b[0mint\u001b[0m\u001b[1;33m)\u001b[0m\u001b[1;33m\u001b[0m\u001b[0m\n\u001b[0m\u001b[0;32m      2\u001b[0m \u001b[0mtoday\u001b[0m \u001b[1;33m=\u001b[0m \u001b[0mdatetime\u001b[0m\u001b[1;33m.\u001b[0m\u001b[0mdatetime\u001b[0m\u001b[1;33m.\u001b[0m\u001b[0mnow\u001b[0m\u001b[1;33m(\u001b[0m\u001b[1;33m)\u001b[0m\u001b[1;33m\u001b[0m\u001b[0m\n\u001b[0;32m      3\u001b[0m \u001b[0mtreshold\u001b[0m \u001b[1;33m=\u001b[0m \u001b[1;36m1\u001b[0m\u001b[1;33m\u001b[0m\u001b[0m\n\u001b[0;32m      4\u001b[0m \u001b[0mtreshold\u001b[0m \u001b[1;33m*=\u001b[0m \u001b[0mround\u001b[0m\u001b[1;33m(\u001b[0m\u001b[1;36m365\u001b[0m \u001b[1;33m/\u001b[0m \u001b[1;36m7\u001b[0m\u001b[1;33m)\u001b[0m\u001b[1;33m\u001b[0m\u001b[0m\n\u001b[0;32m      5\u001b[0m \u001b[1;33m\u001b[0m\u001b[0m\n",
      "\u001b[1;31mNameError\u001b[0m: name 'collections' is not defined"
     ]
    }
   ],
   "source": [
    "graph = collections.defaultdict(int)\n",
    "today = datetime.datetime.now()\n",
    "treshold = 1\n",
    "treshold *= round(365 / 7)\n",
    "\n",
    "for player_id in global_player_ids:\n",
    "    try:\n",
    "        time_created = int(players_summaries[player_id][\"timecreated\"])\n",
    "    except KeyError:\n",
    "        continue\n",
    "    \n",
    "    for tmp_friend in player_friends[player_id]:\n",
    "        time_diff = tmp_friend[\"friend_since\"] - time_created\n",
    "        weeks = round(time_diff / (3600 * 24 *7))\n",
    "        \n",
    "        # If the player made this friend in the first year (since the account was created)\n",
    "        if 0 < weeks <= 52:\n",
    "            graph[weeks] += 1\n",
    "\n",
    "graph_x = []\n",
    "graph_y = []\n",
    "\n",
    "for week in sorted(graph):\n",
    "    graph_x += [week]\n",
    "    graph_y += [graph[week]]\n",
    "\n",
    "fig = plt.figure()\n",
    "axes = fig.add_axes([0.1, 0.1, 2, 1])\n",
    "axes.bar(graph_x, graph_y)\n",
    "axes.set_ylabel('št. prijateljev')\n",
    "axes.set_xlabel('starost računa (tedni)')"
   ]
  },
  {
   "cell_type": "markdown",
   "metadata": {},
   "source": [
    "## 5. Odvisnost med težavnostjo igre in njenim uspehom"
   ]
  },
  {
   "cell_type": "code",
   "execution_count": null,
   "metadata": {},
   "outputs": [],
   "source": []
  }
 ],
 "metadata": {
  "kernelspec": {
   "display_name": "Python 3",
   "language": "python",
   "name": "python3"
  },
  "language_info": {
   "codemirror_mode": {
    "name": "ipython",
    "version": 3
   },
   "file_extension": ".py",
   "mimetype": "text/x-python",
   "name": "python",
   "nbconvert_exporter": "python",
   "pygments_lexer": "ipython3",
   "version": "3.5.2"
  }
 },
 "nbformat": 4,
 "nbformat_minor": 2
}
