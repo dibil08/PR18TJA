{
 "cells": [
  {
   "cell_type": "markdown",
   "metadata": {},
   "source": [
    "Sodelujoči\n",
    "\n",
    "    Tomaž Štrus\n",
    "    Anže Košir\n",
    "    Jan Harej\n",
    "\n",
    "O projektu: Iz platforme Steam, namenjenu predvsem za distrubicijo video iger, bomo zbrali podatke igrah več ljudi, ter analizirali stvari kot so npr. koliko iger, ki jih kupijo dejansko preigrajo, kolika časa bo nekdo zapravil za neko igro, kakšno igro bo kupil naslednjo, glede na svoje igre ipd.\n",
    "\n",
    "Podatki: Uporabili bomo API, ki ga ponuja Steam: https://developer.valvesoftware.com/wiki/Steam_Web_API#JSON Tu lahko dobimo podatko o čisto vsemu kar potrebujemo npr. o uporabniku, njegove igre, prijatelji, koliko ur je igral neko igro, ... Dobili bomo podatke za npr. 100.000+ uporabnikov (prijatelji naših prijateljev, in njihov prijateljev itd.)"
   ]
  },
  {
   "cell_type": "markdown",
   "metadata": {},
   "source": [
    "## Vprašanja za raziskavo\n",
    "1. Povprečno dokončanje igre\n",
    "2. Število in vrsta Bannov v povezavi z javnimi/privatnimi profili\n",
    "3. Najmanjkrat odklenjeni dosežki za igrane igre\n",
    "4. Število prijateljev glede na \"starost\" računa"
   ]
  },
  {
   "cell_type": "code",
   "execution_count": null,
   "metadata": {},
   "outputs": [],
   "source": [
    "#install libraries on windows\n",
    "\"\"\"\n",
    "!python -m pip install numpy\n",
    "!python -m pip install matplotlib\n",
    "!python -m pip install requests\n",
    "\"\"\""
   ]
  },
  {
   "cell_type": "code",
   "execution_count": 5,
   "metadata": {},
   "outputs": [],
   "source": [
    "from steam_imports import *\n",
    "from data_variables import *\n",
    "from get_functions import *\n",
    "from fill_functions import *\n",
    "from get_read_write import *"
   ]
  },
  {
   "cell_type": "code",
   "execution_count": null,
   "metadata": {},
   "outputs": [],
   "source": [
    "print"
   ]
  },
  {
   "cell_type": "code",
   "execution_count": 8,
   "metadata": {},
   "outputs": [
    {
     "data": {
      "text/plain": [
       "'\\n#----------------- write player ids to file -------------------\\nwith open(\"pid_set.json\", \"w\") as fp:\\n    json.dump(list(global_player_ids), fp)\\n    \\n#--------------- write player summary to file -----------------\\nwith open(\"player_summaries.json\", \"w\") as fp:\\n    json.dump(players_summaries, fp)\\n\\n#--------------- write player friends to file -----------------\\nwith open(\"player_friends.json\", \"w\") as fp:\\n    json.dump(player_friends, fp)\\n\\n    \\n#--------------- write player games to file -----------------\\nwith open(\"player_games.json\", \"w\") as fp:\\n    json.dump(player_games, fp)\\n'"
      ]
     },
     "execution_count": 8,
     "metadata": {},
     "output_type": "execute_result"
    }
   ],
   "source": [
    "#--------------- request player ids from api ------------------ DONE\n",
    "#global_player_ids = set()\n",
    "#fill_player_ids_rec(my_id, 1000)\n",
    "\n",
    "#--------------- request player ids from file -----------------\n",
    "with open(\"data/pid_set.json\", \"r\") as fp:\n",
    "    global_player_ids = set(json.load(fp))\n",
    "    \n",
    "#------------- request player summary from api ---------------- DONE\n",
    "#players_summaries = dict()\n",
    "#fill_players_summaries()\n",
    "\n",
    "#------------- request player summary from file ---------------\n",
    "with open(\"data/player_summaries.json\", \"r\") as fp:\n",
    "    players_summaries = json.load(fp)\n",
    "    \n",
    "#------------- request player friends from api ---------------- DONE\n",
    "#player_friends = dict()\n",
    "#fill_players_friends()\n",
    "\n",
    "#------------- request player friends from file ---------------\n",
    "with open(\"data/player_friends.json\", \"r\") as fp:\n",
    "    player_friends = json.load(fp)\n",
    "\n",
    "#------------ request player game data from api --------------- DONE\n",
    "#player_games = dict()\n",
    "#fill_players_games()\n",
    "\n",
    "#------------ request player game data from file --------------\n",
    "with open(\"data/player_games.json\", \"r\") as fp:\n",
    "    player_games = json.load(fp)\n",
    "\n",
    "\"\"\"\n",
    "#----------------- write player ids to file -------------------\n",
    "with open(\"pid_set.json\", \"w\") as fp:\n",
    "    json.dump(list(global_player_ids), fp)\n",
    "    \n",
    "#--------------- write player summary to file -----------------\n",
    "with open(\"player_summaries.json\", \"w\") as fp:\n",
    "    json.dump(players_summaries, fp)\n",
    "\n",
    "#--------------- write player friends to file -----------------\n",
    "with open(\"player_friends.json\", \"w\") as fp:\n",
    "    json.dump(player_friends, fp)\n",
    "\n",
    "    \n",
    "#--------------- write player games to file -----------------\n",
    "with open(\"player_games.json\", \"w\") as fp:\n",
    "    json.dump(player_games, fp)\n",
    "\"\"\""
   ]
  },
  {
   "cell_type": "code",
   "execution_count": null,
   "metadata": {},
   "outputs": [],
   "source": [
    "#print(players_summaries[\"76561198207785297\"])"
   ]
  },
  {
   "cell_type": "markdown",
   "metadata": {},
   "source": [
    "# Odgovori na vprašanja"
   ]
  },
  {
   "cell_type": "markdown",
   "metadata": {},
   "source": [
    "### 1. Povprečno dokončanje igre"
   ]
  },
  {
   "cell_type": "code",
   "execution_count": null,
   "metadata": {},
   "outputs": [],
   "source": []
  },
  {
   "cell_type": "markdown",
   "metadata": {},
   "source": [
    "### 2. Število in vrsta Bannov v povezavi z javnimi/privatnimi profili"
   ]
  },
  {
   "cell_type": "code",
   "execution_count": null,
   "metadata": {},
   "outputs": [],
   "source": []
  },
  {
   "cell_type": "markdown",
   "metadata": {},
   "source": [
    "### 3. Najmanjkrat odklenjeni dosežki za igrane igre"
   ]
  },
  {
   "cell_type": "code",
   "execution_count": null,
   "metadata": {},
   "outputs": [],
   "source": []
  },
  {
   "cell_type": "markdown",
   "metadata": {},
   "source": [
    "### 4. Število prijateljev glede na \"starost\" računa"
   ]
  },
  {
   "cell_type": "code",
   "execution_count": 20,
   "metadata": {},
   "outputs": [
    {
     "data": {
      "text/plain": [
       "Text(0.5,0,'starost računa (tedni)')"
      ]
     },
     "execution_count": 20,
     "metadata": {},
     "output_type": "execute_result"
    },
    {
     "data": {
      "image/png": "[encoded data removed]",
      "text/plain": [
       "<Figure size 432x288 with 1 Axes>"
      ]
     },
     "metadata": {},
     "output_type": "display_data"
    }
   ],
   "source": [
    "graph = collections.defaultdict(int)\n",
    "today = datetime.datetime.now()\n",
    "\n",
    "for player_id in global_player_ids:\n",
    "    try:\n",
    "        time_created = int(players_summaries[player_id][\"timecreated\"])\n",
    "    except KeyError:\n",
    "        continue\n",
    "    \n",
    "    for tmp_friend in player_friends[player_id]:\n",
    "        time_diff = tmp_friend[\"friend_since\"] - time_created\n",
    "        weeks = round(time_diff / (3600 * 24 *7))\n",
    "        \n",
    "        # If the player made this friend in the first year (since the account was created)\n",
    "        if 0 < weeks <= 52:\n",
    "            graph[weeks] += 1\n",
    "\n",
    "graph_x = []\n",
    "graph_y = []\n",
    "\n",
    "for week in sorted(graph):\n",
    "    graph_x += [week]\n",
    "    graph_y += [graph[week]]\n",
    "\n",
    "fig = plt.figure()\n",
    "axes = fig.add_axes([0.1, 0.1, 2, 1])\n",
    "axes.bar(graph_x, graph_y)\n",
    "axes.set_ylabel('št. prijateljev')\n",
    "axes.set_xlabel('starost računa (tedni)')"
   ]
  },
  {
   "cell_type": "markdown",
   "metadata": {},
   "source": [
    "## 5. Odvisnost med težavnostjo igre in njenim uspehom"
   ]
  },
  {
   "cell_type": "code",
   "execution_count": null,
   "metadata": {},
   "outputs": [],
   "source": []
  }
 ],
 "metadata": {
  "kernelspec": {
   "display_name": "Python 3",
   "language": "python",
   "name": "python3"
  },
  "language_info": {
   "codemirror_mode": {
    "name": "ipython",
    "version": 3
   },
   "file_extension": ".py",
   "mimetype": "text/x-python",
   "name": "python",
   "nbconvert_exporter": "python",
   "pygments_lexer": "ipython3",
   "version": "3.6.4"
  }
 },
 "nbformat": 4,
 "nbformat_minor": 2
}
