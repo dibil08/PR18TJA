{
 "cells": [
  {
   "cell_type": "markdown",
   "metadata": {},
   "source": [
    "Sodelujoči\n",
    "\n",
    "    Tomaž Štrus\n",
    "    Anže Košir\n",
    "    Jan Harej\n",
    "\n",
    "O projektu: Iz platforme Steam, namenjenu predvsem za distrubicijo video iger, bomo zbrali podatke igrah več ljudi, ter analizirali stvari kot so npr. koliko iger, ki jih kupijo dejansko preigrajo, kolika časa bo nekdo zapravil za neko igro, kakšno igro bo kupil naslednjo, glede na svoje igre ipd.\n",
    "\n",
    "Podatki: Uporabili bomo API, ki ga ponuja Steam: https://developer.valvesoftware.com/wiki/Steam_Web_API#JSON Tu lahko dobimo podatko o čisto vsemu kar potrebujemo npr. o uporabniku, njegove igre, prijatelji, koliko ur je igral neko igro, ... Dobili bomo podatke za npr. 100.000+ uporabnikov (prijatelji naših prijateljev, in njihov prijateljev itd.)"
   ]
  },
  {
   "cell_type": "markdown",
   "metadata": {},
   "source": [
    "## Vprašanja za raziskavo\n",
    "1. Povprečno dokončanje igre\n",
    "2. Število in vrsta Bannov v povezavi z javnimi/privatnimi profili\n",
    "3. Najmanjkrat odklenjeni dosežki za igrane igre\n",
    "4. Število prijateljev glede na \"starost\" računa"
   ]
  },
  {
   "cell_type": "code",
   "execution_count": 1,
   "metadata": {},
   "outputs": [],
   "source": [
    "from scripts.imports import *\n",
    "from scripts.data_variables import *"
   ]
  },
  {
   "cell_type": "code",
   "execution_count": 2,
   "metadata": {},
   "outputs": [],
   "source": [
    "from scripts.get_read_write import *"
   ]
  },
  {
   "cell_type": "code",
   "execution_count": 3,
   "metadata": {
    "scrolled": true
   },
   "outputs": [
    {
     "name": "stdout",
     "output_type": "stream",
     "text": [
      "INFO: reading ids\n",
      "INFO: reading ids finished\n",
      "INFO: reading summaries\n",
      "INFO: reading summaries finished\n",
      "INFO: reading friends\n",
      "INFO: reading friends finished\n",
      "INFO: reading games\n",
      "INFO: reading games finished\n",
      "INFO: reading achievements\n",
      "INFO: reading achievements finished\n",
      "INFO: reading bans\n",
      "INFO: reading bans finished\n",
      "INFO: reading global game stats\n",
      "INFO: reading global game stats finished\n",
      "INFO: reading game names\n",
      "INFO: reading game names finished\n",
      "data lengths:  10000 10000 10000 10000 110 10000 14922\n"
     ]
    }
   ],
   "source": [
    "player_ids = read_player_ids()\n",
    "player_summaries = read_player_summaries()\n",
    "player_friends = read_player_friends()\n",
    "player_games = read_player_games()\n",
    "player_achievements = read_player_achievements()\n",
    "player_bans = read_player_bans()\n",
    "global_game_stats = read_global_game_stats()\n",
    "game_names = read_game_names()\n",
    "print(\"data lengths: \", len(player_ids), len(player_summaries), len(player_friends), len(player_games), len(player_achievements), len(player_bans), len(global_game_stats))"
   ]
  },
  {
   "cell_type": "code",
   "execution_count": 4,
   "metadata": {},
   "outputs": [
    {
     "name": "stdout",
     "output_type": "stream",
     "text": [
      "INFO: requesting summaries\n",
      "INFO: requesting: 0\n",
      "INFO: requesting summaries finished\n",
      "Time needed: 0.009505510330200195 seconds \n"
     ]
    }
   ],
   "source": [
    "player_summaries = api_fill_player_summaries(player_ids, player_summaries)"
   ]
  },
  {
   "cell_type": "code",
   "execution_count": 5,
   "metadata": {},
   "outputs": [
    {
     "name": "stdout",
     "output_type": "stream",
     "text": [
      "INFO: requesting friends\n",
      "INFO: requesting: 6\n",
      "INFO: requesting friends finished\n",
      "Time needed: 0.46796464920043945 seconds \n"
     ]
    }
   ],
   "source": [
    "player_friends = api_fill_player_friends(player_ids, player_summaries, player_friends)"
   ]
  },
  {
   "cell_type": "code",
   "execution_count": 6,
   "metadata": {},
   "outputs": [],
   "source": [
    "#player_games = api_fill_player_games(player_ids, player_summaries, player_games) #mostly friends only access"
   ]
  },
  {
   "cell_type": "code",
   "execution_count": 7,
   "metadata": {},
   "outputs": [
    {
     "name": "stdout",
     "output_type": "stream",
     "text": [
      "INFO: requesting achievements\n",
      "INFO: requesting: 293\n",
      "INFO: requesting achievements finished\n",
      "Time needed: 114.42227721214294 seconds \n"
     ]
    }
   ],
   "source": [
    "player_achievements = api_fill_player_achievements(player_ids, player_games, player_summaries, player_achievements)"
   ]
  },
  {
   "cell_type": "code",
   "execution_count": 8,
   "metadata": {},
   "outputs": [
    {
     "name": "stdout",
     "output_type": "stream",
     "text": [
      "INFO: requesting bans\n",
      "INFO: requesting: 0\n",
      "INFO: requesting bans finished\n",
      "Time needed: 0.008006095886230469 seconds \n"
     ]
    }
   ],
   "source": [
    "player_bans = api_fill_player_bans(player_ids, player_summaries, player_bans)"
   ]
  },
  {
   "cell_type": "code",
   "execution_count": 9,
   "metadata": {},
   "outputs": [
    {
     "name": "stdout",
     "output_type": "stream",
     "text": [
      "INFO: requesting global game stats\n",
      "INFO: requesting: 0\n",
      "INFO: requesting global game stats finished\n",
      "Time needed: 0.14159417152404785 seconds \n"
     ]
    }
   ],
   "source": [
    "global_game_stats = api_fill_global_game_stats(player_games, global_game_stats)"
   ]
  },
  {
   "cell_type": "code",
   "execution_count": 10,
   "metadata": {},
   "outputs": [
    {
     "name": "stdout",
     "output_type": "stream",
     "text": [
      "INFO: requesting game names\n",
      "INFO: requesting game names finished\n",
      "Time needed: 1.260803461074829 seconds \n"
     ]
    }
   ],
   "source": [
    "game_names = api_fill_game_names()"
   ]
  },
  {
   "cell_type": "code",
   "execution_count": 11,
   "metadata": {},
   "outputs": [
    {
     "name": "stdout",
     "output_type": "stream",
     "text": [
      "Currently: 10000 out of 10000\n"
     ]
    }
   ],
   "source": [
    "filled_p(player_summaries)"
   ]
  },
  {
   "cell_type": "code",
   "execution_count": 12,
   "metadata": {},
   "outputs": [
    {
     "name": "stdout",
     "output_type": "stream",
     "text": [
      "Currently: 8995 out of 10000\n"
     ]
    }
   ],
   "source": [
    "filled_p(player_friends)"
   ]
  },
  {
   "cell_type": "code",
   "execution_count": 13,
   "metadata": {},
   "outputs": [
    {
     "name": "stdout",
     "output_type": "stream",
     "text": [
      "Currently: 284 out of 10000\n"
     ]
    }
   ],
   "source": [
    "filled_p(player_games)"
   ]
  },
  {
   "cell_type": "code",
   "execution_count": 14,
   "metadata": {},
   "outputs": [
    {
     "name": "stdout",
     "output_type": "stream",
     "text": [
      "Currently: 24 out of 110\n"
     ]
    }
   ],
   "source": [
    "filled_p(player_achievements)"
   ]
  },
  {
   "cell_type": "code",
   "execution_count": 15,
   "metadata": {},
   "outputs": [
    {
     "name": "stdout",
     "output_type": "stream",
     "text": [
      "Currently: 10000 out of 10000\n"
     ]
    }
   ],
   "source": [
    "filled_p(player_bans)"
   ]
  },
  {
   "cell_type": "code",
   "execution_count": 16,
   "metadata": {},
   "outputs": [
    {
     "name": "stdout",
     "output_type": "stream",
     "text": [
      "Currently: 14922 out of 14922\n"
     ]
    }
   ],
   "source": [
    "filled_p(global_game_stats)"
   ]
  },
  {
   "cell_type": "code",
   "execution_count": 17,
   "metadata": {},
   "outputs": [
    {
     "name": "stdout",
     "output_type": "stream",
     "text": [
      "Currently: 61676 out of 61676\n"
     ]
    }
   ],
   "source": [
    "filled_p(game_names)"
   ]
  },
  {
   "cell_type": "code",
   "execution_count": 18,
   "metadata": {},
   "outputs": [
    {
     "name": "stdout",
     "output_type": "stream",
     "text": [
      "INFO: writing ids\n",
      "INFO: finised writing ids\n"
     ]
    }
   ],
   "source": [
    "write_player_ids(player_ids)"
   ]
  },
  {
   "cell_type": "code",
   "execution_count": 19,
   "metadata": {},
   "outputs": [
    {
     "name": "stdout",
     "output_type": "stream",
     "text": [
      "INFO: writing summaries\n",
      "INFO: finised writing summaries\n"
     ]
    }
   ],
   "source": [
    "write_player_summaries(player_summaries)"
   ]
  },
  {
   "cell_type": "code",
   "execution_count": 20,
   "metadata": {},
   "outputs": [
    {
     "name": "stdout",
     "output_type": "stream",
     "text": [
      "INFO: writing friends\n",
      "INFO: finised writing friends\n"
     ]
    }
   ],
   "source": [
    "write_player_friends(player_friends)"
   ]
  },
  {
   "cell_type": "code",
   "execution_count": 21,
   "metadata": {},
   "outputs": [
    {
     "name": "stdout",
     "output_type": "stream",
     "text": [
      "INFO: writing games\n",
      "INFO: finised writing games\n"
     ]
    }
   ],
   "source": [
    "write_player_games(player_games)"
   ]
  },
  {
   "cell_type": "code",
   "execution_count": 22,
   "metadata": {},
   "outputs": [
    {
     "name": "stdout",
     "output_type": "stream",
     "text": [
      "INFO: writing achievements\n",
      "INFO: finised writing acievements\n"
     ]
    }
   ],
   "source": [
    "write_player_achievements(player_achievements)"
   ]
  },
  {
   "cell_type": "code",
   "execution_count": 23,
   "metadata": {},
   "outputs": [
    {
     "name": "stdout",
     "output_type": "stream",
     "text": [
      "INFO: writing bans\n",
      "INFO: finised writing bans\n"
     ]
    }
   ],
   "source": [
    "write_player_bans(player_bans)"
   ]
  },
  {
   "cell_type": "code",
   "execution_count": 24,
   "metadata": {},
   "outputs": [
    {
     "name": "stdout",
     "output_type": "stream",
     "text": [
      "INFO: writing global_game_stats\n",
      "INFO: finised writing global game stats\n"
     ]
    }
   ],
   "source": [
    "write_global_game_stats(global_game_stats)"
   ]
  },
  {
   "cell_type": "code",
   "execution_count": 25,
   "metadata": {},
   "outputs": [
    {
     "name": "stdout",
     "output_type": "stream",
     "text": [
      "INFO: writing game names\n",
      "INFO: finised writing game names\n"
     ]
    }
   ],
   "source": [
    "write_game_names(game_names)"
   ]
  },
  {
   "cell_type": "code",
   "execution_count": 26,
   "metadata": {},
   "outputs": [
    {
     "name": "stdout",
     "output_type": "stream",
     "text": [
      "{'steamid': '76561198101569818', 'communityvisibilitystate': 3, 'profilestate': 1, 'personaname': 'Leo Alioth', 'lastlogoff': 1527542915, 'profileurl': 'https://steamcommunity.com/id/pg97/', 'avatar': 'https://steamcdn-a.akamaihd.net/steamcommunity/public/images/avatars/7f/7f1e73c6f77919cc80e8c9410e347da0e06336be.jpg', 'avatarmedium': 'https://steamcdn-a.akamaihd.net/steamcommunity/public/images/avatars/7f/7f1e73c6f77919cc80e8c9410e347da0e06336be_medium.jpg', 'avatarfull': 'https://steamcdn-a.akamaihd.net/steamcommunity/public/images/avatars/7f/7f1e73c6f77919cc80e8c9410e347da0e06336be_full.jpg', 'personastate': 0, 'realname': 'Anže', 'primaryclanid': '103582791434796278', 'timecreated': 1375693680, 'personastateflags': 0, 'loccountrycode': 'SI'}\n"
     ]
    }
   ],
   "source": []
  },
  {
   "cell_type": "markdown",
   "metadata": {},
   "source": [
    "# Odgovori na vprašanja"
   ]
  },
  {
   "cell_type": "code",
   "execution_count": 27,
   "metadata": {},
   "outputs": [
    {
     "name": "stdout",
     "output_type": "stream",
     "text": [
      "(7951, 847) (1049, 153)\n"
     ]
    },
    {
     "data": {
      "image/png": "[encoded data removed]",
      "text/plain": [
       "<Figure size 432x288 with 1 Axes>"
      ]
     },
     "metadata": {},
     "output_type": "display_data"
    }
   ],
   "source": [
    "good, bad = get_ban_visibility_data(player_summaries, player_bans)\n",
    "print(good, bad)\n",
    "ban_visibility_plot(good, bad)"
   ]
  }
 ],
 "metadata": {
  "kernelspec": {
   "display_name": "Python 3",
   "language": "python",
   "name": "python3"
  },
  "language_info": {
   "codemirror_mode": {
    "name": "ipython",
    "version": 3
   },
   "file_extension": ".py",
   "mimetype": "text/x-python",
   "name": "python",
   "nbconvert_exporter": "python",
   "pygments_lexer": "ipython3",
   "version": "3.6.4"
  }
 },
 "nbformat": 4,
 "nbformat_minor": 2
}
