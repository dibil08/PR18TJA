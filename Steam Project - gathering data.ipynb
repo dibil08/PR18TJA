{
 "cells": [
  {
   "cell_type": "markdown",
   "metadata": {},
   "source": [
    "Sodelujoči\n",
    "\n",
    "    Tomaž Štrus\n",
    "    Anže Košir\n",
    "    Jan Harej\n",
    "\n",
    "O projektu: Iz platforme Steam, namenjenu predvsem za distrubicijo video iger, bomo zbrali podatke igrah več ljudi, ter analizirali stvari kot so npr. koliko iger, ki jih kupijo dejansko preigrajo, kolika časa bo nekdo zapravil za neko igro, kakšno igro bo kupil naslednjo, glede na svoje igre ipd.\n",
    "\n",
    "Podatki: Uporabili bomo API, ki ga ponuja Steam: https://developer.valvesoftware.com/wiki/Steam_Web_API#JSON Tu lahko dobimo podatko o čisto vsemu kar potrebujemo npr. o uporabniku, njegove igre, prijatelji, koliko ur je igral neko igro, ... Dobili bomo podatke za npr. 100.000+ uporabnikov (prijatelji naših prijateljev, in njihov prijateljev itd.)"
   ]
  },
  {
   "cell_type": "markdown",
   "metadata": {},
   "source": [
    "## Vprašanja za raziskavo\n",
    "1. Povprečno dokončanje igre\n",
    "2. Število in vrsta Bannov v povezavi z javnimi/privatnimi profili\n",
    "3. Najmanjkrat odklenjeni dosežki za igrane igre\n",
    "4. Število prijateljev glede na \"starost\" računa"
   ]
  },
  {
   "cell_type": "code",
   "execution_count": 1,
   "metadata": {},
   "outputs": [],
   "source": [
    "from scripts.imports import *\n",
    "from scripts.data_variables import *"
   ]
  },
  {
   "cell_type": "code",
   "execution_count": 2,
   "metadata": {},
   "outputs": [],
   "source": [
    "from scripts.get_read_write import *"
   ]
  },
  {
   "cell_type": "code",
   "execution_count": 3,
   "metadata": {
    "scrolled": true
   },
   "outputs": [
    {
     "name": "stdout",
     "output_type": "stream",
     "text": [
      "INFO: reading ids\n",
      "INFO: reading ids finished\n",
      "IDS: 100000\n",
      "INFO: reading summaries\n",
      "INFO: reading summaries finished\n",
      "SUM: 100000\n",
      "INFO: reading friends\n",
      "INFO: reading friends finished\n",
      "FRI: 10000\n",
      "INFO: reading games\n",
      "INFO: reading games finished\n",
      "GAM: 614\n",
      "INFO: reading achievements\n",
      "INFO: reading achievements finished\n",
      "ACH: 110\n",
      "INFO: reading bans\n",
      "INFO: reading bans finished\n",
      "BAN: 100000\n",
      "INFO: reading global game stats\n",
      "INFO: reading global game stats finished\n",
      "IDS: 61693\n",
      "INFO: reading game names\n",
      "INFO: reading game names finished\n",
      "IDS: 61693\n"
     ]
    }
   ],
   "source": [
    "player_ids = read_player_ids()\n",
    "pid_len = len(player_ids)\n",
    "print(\"IDS:\",pid_len)\n",
    "player_summaries = read_player_summaries()\n",
    "sum_len = len(player_summaries)\n",
    "print(\"SUM:\",sum_len)\n",
    "player_friends = read_player_friends()\n",
    "fri_len = len(player_friends)\n",
    "print(\"FRI:\",fri_len)\n",
    "player_games = read_player_games()\n",
    "gam_len = len(player_games)\n",
    "print(\"GAM:\",gam_len)\n",
    "player_achievements = read_player_achievements()\n",
    "ach_len = len(player_achievements)\n",
    "print(\"ACH:\",ach_len)\n",
    "player_bans = read_player_bans()\n",
    "ban_len = len(player_bans)\n",
    "print(\"BAN:\",ban_len)\n",
    "global_game_stats = read_global_game_stats()\n",
    "ggs_len = len(global_game_stats)\n",
    "print(\"IDS:\",ggs_len)\n",
    "game_names = read_game_names()\n",
    "gns_len = len(game_names)\n",
    "print(\"IDS:\",gns_len)"
   ]
  },
  {
   "cell_type": "code",
   "execution_count": 4,
   "metadata": {},
   "outputs": [],
   "source": [
    "#player_summaries = api_fill_player_summaries(player_ids, player_summaries)"
   ]
  },
  {
   "cell_type": "code",
   "execution_count": 5,
   "metadata": {},
   "outputs": [],
   "source": [
    "#player_friends = api_fill_player_friends(player_ids, player_summaries, player_friends)"
   ]
  },
  {
   "cell_type": "code",
   "execution_count": 6,
   "metadata": {},
   "outputs": [],
   "source": [
    "#player_games = api_fill_player_games(player_ids, player_summaries, player_games) #mostly friends only access"
   ]
  },
  {
   "cell_type": "code",
   "execution_count": 7,
   "metadata": {},
   "outputs": [],
   "source": [
    "#player_achievements = api_fill_player_achievements(player_ids, player_games, player_summaries, player_achievements)"
   ]
  },
  {
   "cell_type": "code",
   "execution_count": 8,
   "metadata": {},
   "outputs": [],
   "source": [
    "#player_bans = api_fill_player_bans(player_ids, player_summaries, player_bans)"
   ]
  },
  {
   "cell_type": "code",
   "execution_count": 9,
   "metadata": {},
   "outputs": [],
   "source": [
    "#game_names = api_fill_game_names()"
   ]
  },
  {
   "cell_type": "code",
   "execution_count": 10,
   "metadata": {},
   "outputs": [],
   "source": [
    "#global_game_stats = api_fill_global_game_stats(game_names.keys(), global_game_stats)"
   ]
  },
  {
   "cell_type": "code",
   "execution_count": 11,
   "metadata": {},
   "outputs": [
    {
     "name": "stdout",
     "output_type": "stream",
     "text": [
      "INFO: requesting friends\n",
      "INFO: requesting: 90004\n",
      "INFO: requesting friends finished\n",
      "Time needed: 61.43681263923645 seconds \n",
      "Currently: 614 out of 614\n",
      "INFO: requesting friends\n",
      "INFO: requesting: 82955\n",
      "INFO: requesting friends finished\n",
      "Time needed: 73.80572867393494 seconds \n",
      "Currently: 614 out of 614\n",
      "INFO: requesting friends\n",
      "INFO: requesting: 82374\n",
      "INFO: requesting friends finished\n",
      "Time needed: 76.04424452781677 seconds \n",
      "Currently: 614 out of 614\n"
     ]
    }
   ],
   "source": [
    "for i in range(3):\n",
    "    #player_summaries = api_fill_player_summaries(player_ids, player_summaries)\n",
    "    player_friends = api_fill_player_friends(player_ids, player_summaries, player_friends)\n",
    "    #player_games = api_fill_player_games(player_ids, player_summaries, player_games) #mostly friends only access\n",
    "    filled_p(player_games)\n",
    "    #player_achievements = api_fill_player_achievements(player_ids, player_games, player_summaries, player_achievements)\n",
    "    #player_bans = api_fill_player_bans(player_ids, player_summaries, player_bans)\n",
    "    pass"
   ]
  },
  {
   "cell_type": "code",
   "execution_count": 12,
   "metadata": {},
   "outputs": [],
   "source": [
    "tmp = dict()\n",
    "for player, data in player_games.items():\n",
    "    if len(data) > 0:\n",
    "        tmp[player] = data\n",
    "player_games = tmp"
   ]
  },
  {
   "cell_type": "code",
   "execution_count": null,
   "metadata": {},
   "outputs": [],
   "source": []
  },
  {
   "cell_type": "code",
   "execution_count": 13,
   "metadata": {},
   "outputs": [
    {
     "name": "stdout",
     "output_type": "stream",
     "text": [
      "Currently: 100000 out of 100000\n"
     ]
    }
   ],
   "source": [
    "filled_p(player_summaries)"
   ]
  },
  {
   "cell_type": "code",
   "execution_count": 14,
   "metadata": {},
   "outputs": [
    {
     "name": "stdout",
     "output_type": "stream",
     "text": [
      "Currently: 14861 out of 27626\n"
     ]
    }
   ],
   "source": [
    "filled_p(player_friends)"
   ]
  },
  {
   "cell_type": "code",
   "execution_count": 15,
   "metadata": {},
   "outputs": [
    {
     "name": "stdout",
     "output_type": "stream",
     "text": [
      "Currently: 614 out of 614\n"
     ]
    }
   ],
   "source": [
    "filled_p(player_games)"
   ]
  },
  {
   "cell_type": "code",
   "execution_count": 16,
   "metadata": {},
   "outputs": [
    {
     "name": "stdout",
     "output_type": "stream",
     "text": [
      "Currently: 24 out of 110\n"
     ]
    }
   ],
   "source": [
    "filled_p(player_achievements)"
   ]
  },
  {
   "cell_type": "code",
   "execution_count": 17,
   "metadata": {},
   "outputs": [
    {
     "name": "stdout",
     "output_type": "stream",
     "text": [
      "Currently: 100000 out of 100000\n"
     ]
    }
   ],
   "source": [
    "filled_p(player_bans)"
   ]
  },
  {
   "cell_type": "code",
   "execution_count": 18,
   "metadata": {},
   "outputs": [
    {
     "name": "stdout",
     "output_type": "stream",
     "text": [
      "Currently: 55211 out of 61693\n"
     ]
    }
   ],
   "source": [
    "filled_p(global_game_stats)"
   ]
  },
  {
   "cell_type": "code",
   "execution_count": 19,
   "metadata": {},
   "outputs": [
    {
     "name": "stdout",
     "output_type": "stream",
     "text": [
      "Currently: 61693 out of 61693\n"
     ]
    }
   ],
   "source": [
    "filled_p(game_names)"
   ]
  },
  {
   "cell_type": "code",
   "execution_count": null,
   "metadata": {},
   "outputs": [],
   "source": []
  },
  {
   "cell_type": "code",
   "execution_count": 20,
   "metadata": {},
   "outputs": [],
   "source": [
    "if pid_len < len(player_ids):\n",
    "    write_player_ids(player_ids)"
   ]
  },
  {
   "cell_type": "code",
   "execution_count": 21,
   "metadata": {},
   "outputs": [],
   "source": [
    "if sum_len < len(player_summaries):    \n",
    "    write_player_summaries(player_summaries)"
   ]
  },
  {
   "cell_type": "code",
   "execution_count": 22,
   "metadata": {},
   "outputs": [
    {
     "name": "stdout",
     "output_type": "stream",
     "text": [
      "INFO: writing friends\n",
      "INFO: finised writing friends\n"
     ]
    }
   ],
   "source": [
    "if fri_len < len(player_friends):\n",
    "    write_player_friends(player_friends)"
   ]
  },
  {
   "cell_type": "code",
   "execution_count": 23,
   "metadata": {},
   "outputs": [],
   "source": [
    "if gam_len < len(player_games):\n",
    "    write_player_games(player_games)"
   ]
  },
  {
   "cell_type": "code",
   "execution_count": 24,
   "metadata": {},
   "outputs": [],
   "source": [
    "if ach_len < len(player_achievements):\n",
    "    write_player_achievements(player_achievements)"
   ]
  },
  {
   "cell_type": "code",
   "execution_count": 25,
   "metadata": {},
   "outputs": [],
   "source": [
    "if ban_len < len(player_bans):\n",
    "    write_player_bans(player_bans)"
   ]
  },
  {
   "cell_type": "code",
   "execution_count": 26,
   "metadata": {},
   "outputs": [],
   "source": [
    "if ggs_len < len(global_game_stats):\n",
    "    write_global_game_stats(global_game_stats)"
   ]
  },
  {
   "cell_type": "code",
   "execution_count": 27,
   "metadata": {},
   "outputs": [],
   "source": [
    "if gns_len < len(game_names):\n",
    "    write_game_names(game_names)"
   ]
  },
  {
   "cell_type": "code",
   "execution_count": null,
   "metadata": {},
   "outputs": [],
   "source": [
    "print(player_friends)"
   ]
  },
  {
   "cell_type": "markdown",
   "metadata": {},
   "source": [
    "# Odgovori na vprašanja"
   ]
  },
  {
   "cell_type": "code",
   "execution_count": null,
   "metadata": {},
   "outputs": [],
   "source": [
    "good, bad = get_ban_visibility_data(player_summaries, player_bans)\n",
    "print(good, bad)\n",
    "print(bad[0]/(bad[0]+good[0]))\n",
    "print(bad[1]/(bad[1]+good[1]))\n",
    "ban_visibility_plot(good, bad)"
   ]
  }
 ],
 "metadata": {
  "kernelspec": {
   "display_name": "Python 3",
   "language": "python",
   "name": "python3"
  },
  "language_info": {
   "codemirror_mode": {
    "name": "ipython",
    "version": 3
   },
   "file_extension": ".py",
   "mimetype": "text/x-python",
   "name": "python",
   "nbconvert_exporter": "python",
   "pygments_lexer": "ipython3",
   "version": "3.6.4"
  }
 },
 "nbformat": 4,
 "nbformat_minor": 2
}
