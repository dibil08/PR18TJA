{
 "cells": [
  {
   "cell_type": "markdown",
   "metadata": {},
   "source": [
    "Sodelujoči\n",
    "\n",
    "    Tomaž Štrus\n",
    "    Anže Košir\n",
    "    Jan Harej\n",
    "\n",
    "O projektu: Iz platforme Steam, namenjenu predvsem za distrubicijo video iger, bomo zbrali podatke igrah več ljudi, ter analizirali stvari kot so npr. koliko iger, ki jih kupijo dejansko preigrajo, kolika časa bo nekdo zapravil za neko igro, kakšno igro bo kupil naslednjo, glede na svoje igre ipd.\n",
    "\n",
    "Podatki: Uporabili bomo API, ki ga ponuja Steam: https://developer.valvesoftware.com/wiki/Steam_Web_API#JSON Tu lahko dobimo podatko o čisto vsemu kar potrebujemo npr. o uporabniku, njegove igre, prijatelji, koliko ur je igral neko igro, ... Dobili bomo podatke za npr. 100.000+ uporabnikov (prijatelji naših prijateljev, in njihov prijateljev itd.)"
   ]
  },
  {
   "cell_type": "markdown",
   "metadata": {},
   "source": [
    "## Vprašanja za raziskavo\n",
    "1. Povprečno dokončanje igre\n",
    "2. Število in vrsta Bannov v povezavi z javnimi/privatnimi profili\n",
    "3. Najmanjkrat odklenjeni dosežki za igrane igre\n",
    "4. Število prijateljev glede na \"starost\" računa"
   ]
  },
  {
   "cell_type": "code",
   "execution_count": 1,
   "metadata": {},
   "outputs": [],
   "source": [
    "from scripts.imports import *\n",
    "from scripts.data_variables import *"
   ]
  },
  {
   "cell_type": "code",
   "execution_count": 2,
   "metadata": {},
   "outputs": [],
   "source": [
    "from scripts.get_read_write import *"
   ]
  },
  {
   "cell_type": "code",
   "execution_count": 3,
   "metadata": {
    "scrolled": true
   },
   "outputs": [
    {
     "name": "stdout",
     "output_type": "stream",
     "text": [
      "INFO: reading ids\n",
      "INFO: reading ids finished\n",
      "IDS: 100000\n",
      "INFO: reading summaries\n",
      "INFO: reading summaries finished\n",
      "SUM: 100000\n",
      "INFO: reading friends\n",
      "INFO: reading friends finished\n",
      "FRI: 27626\n",
      "INFO: reading games\n",
      "INFO: reading games finished\n",
      "GAM: 614\n",
      "INFO: reading achievements\n",
      "INFO: reading achievements finished\n",
      "ACH: 110\n",
      "INFO: reading bans\n",
      "INFO: reading bans finished\n",
      "BAN: 100000\n",
      "INFO: reading global game stats\n",
      "INFO: reading global game stats finished\n",
      "IDS: 61693\n",
      "INFO: reading game names\n",
      "INFO: reading game names finished\n",
      "IDS: 61693\n"
     ]
    }
   ],
   "source": [
    "player_ids = read_player_ids()\n",
    "pid_len = len(player_ids)\n",
    "print(\"IDS:\",pid_len)\n",
    "player_summaries = read_player_summaries()\n",
    "sum_len = len(player_summaries)\n",
    "print(\"SUM:\",sum_len)\n",
    "player_friends = read_player_friends()\n",
    "fri_len = len(player_friends)\n",
    "print(\"FRI:\",fri_len)\n",
    "player_games = read_player_games()\n",
    "gam_len = len(player_games)\n",
    "print(\"GAM:\",gam_len)\n",
    "player_achievements = read_player_achievements()\n",
    "ach_len = len(player_achievements)\n",
    "print(\"ACH:\",ach_len)\n",
    "player_bans = read_player_bans()\n",
    "ban_len = len(player_bans)\n",
    "print(\"BAN:\",ban_len)\n",
    "global_game_stats = read_global_game_stats()\n",
    "ggs_len = len(global_game_stats)\n",
    "print(\"IDS:\",ggs_len)\n",
    "game_names = read_game_names()\n",
    "gns_len = len(game_names)\n",
    "print(\"IDS:\",gns_len)"
   ]
  },
  {
   "cell_type": "code",
   "execution_count": null,
   "metadata": {},
   "outputs": [],
   "source": []
  },
  {
   "cell_type": "code",
   "execution_count": null,
   "metadata": {},
   "outputs": [],
   "source": []
  },
  {
   "cell_type": "code",
   "execution_count": null,
   "metadata": {},
   "outputs": [],
   "source": []
  },
  {
   "cell_type": "code",
   "execution_count": null,
   "metadata": {},
   "outputs": [],
   "source": []
  },
  {
   "cell_type": "markdown",
   "metadata": {},
   "source": [
    "# Odgovori na vprašanja"
   ]
  },
  {
   "cell_type": "markdown",
   "metadata": {},
   "source": [
    "### 1. Povprečno dokončanje igre"
   ]
  },
  {
   "cell_type": "code",
   "execution_count": null,
   "metadata": {},
   "outputs": [],
   "source": []
  },
  {
   "cell_type": "markdown",
   "metadata": {},
   "source": [
    "### 2. Število in vrsta Bannov v povezavi z javnimi/privatnimi profili"
   ]
  },
  {
   "cell_type": "code",
   "execution_count": 6,
   "metadata": {},
   "outputs": [],
   "source": [
    "def ban_visibility_plot(good_in, bad_in):\n",
    "    import numpy as np\n",
    "    import matplotlib.pyplot as plt\n",
    "    \n",
    "    good = [0]*2\n",
    "    bad = [0]*2\n",
    "    good[0]= good_in[0]/sum([good_in[0], bad_in[0]])\n",
    "    good[1]= good_in[1]/sum([good_in[1], bad_in[1]])\n",
    "    bad[0]= bad_in[0]/sum([good_in[0], bad_in[0]])\n",
    "    bad[1]= bad_in[1]/sum([good_in[1], bad_in[1]])\n",
    "    plt.figure(figsize=(8, 8))\n",
    "    fig, ax = plt.subplots()\n",
    "    ind = np.arange(2)    # the x locations for the groups\n",
    "    print(\"IND:\", ind)\n",
    "    width = 0.35         # the width of the bars\n",
    "    p1 = ax.bar(ind, good, width, color='y', bottom=0)\n",
    "    \n",
    "    for i, v in enumerate([good_in[0], bad_in[0], good_in[1], bad_in[1]]):\n",
    "        if(i%2 == 0):\n",
    "            ax.text(i/2, good[i//2]+0.01, str(v), color='blue', fontweight='bold', ha = \"center\")\n",
    "        else:\n",
    "            ax.text(i//2+width, bad[i//2]+0.01, str(v), color='blue', fontweight='bold', ha = \"center\")\n",
    "\n",
    "\n",
    "    p2 = ax.bar(ind + width, bad, width, color='r', bottom=0)\n",
    "\n",
    "    ax.set_title('bans')\n",
    "    ax.set_xticks(ind + width / 2)\n",
    "    ax.set_xticklabels(('Public', 'Private'))\n",
    "\n",
    "    ax.legend((p1[0], p2[0]), ('Never Banned', 'Banned'))\n",
    "    #ax.autoscale_view()\n",
    "\n",
    "    plt.show()"
   ]
  },
  {
   "cell_type": "code",
   "execution_count": null,
   "metadata": {},
   "outputs": [],
   "source": [
    "\n"
   ]
  },
  {
   "cell_type": "code",
   "execution_count": 7,
   "metadata": {},
   "outputs": [
    {
     "name": "stdout",
     "output_type": "stream",
     "text": [
      "(91345, 7843) (557, 255)\n"
     ]
    },
    {
     "ename": "TypeError",
     "evalue": "'NoneType' object is not callable",
     "output_type": "error",
     "traceback": [
      "\u001b[1;31m---------------------------------------------------------------------------\u001b[0m",
      "\u001b[1;31mTypeError\u001b[0m                                 Traceback (most recent call last)",
      "\u001b[1;32m<ipython-input-7-b7618064c1eb>\u001b[0m in \u001b[0;36m<module>\u001b[1;34m()\u001b[0m\n\u001b[0;32m      1\u001b[0m \u001b[0mgood\u001b[0m\u001b[1;33m,\u001b[0m \u001b[0mbad\u001b[0m \u001b[1;33m=\u001b[0m \u001b[0mget_community_ban_visibility_data\u001b[0m\u001b[1;33m(\u001b[0m\u001b[0mplayer_summaries\u001b[0m\u001b[1;33m,\u001b[0m \u001b[0mplayer_bans\u001b[0m\u001b[1;33m)\u001b[0m\u001b[1;33m\u001b[0m\u001b[0m\n\u001b[0;32m      2\u001b[0m \u001b[0mprint\u001b[0m\u001b[1;33m(\u001b[0m\u001b[0mgood\u001b[0m\u001b[1;33m,\u001b[0m \u001b[0mbad\u001b[0m\u001b[1;33m)\u001b[0m\u001b[1;33m\u001b[0m\u001b[0m\n\u001b[1;32m----> 3\u001b[1;33m \u001b[0mban_visibility_plot\u001b[0m\u001b[1;33m(\u001b[0m\u001b[0mgood\u001b[0m\u001b[1;33m,\u001b[0m \u001b[0mbad\u001b[0m\u001b[1;33m)\u001b[0m\u001b[1;33m\u001b[0m\u001b[0m\n\u001b[0m",
      "\u001b[1;32m<ipython-input-6-4eedb515bb43>\u001b[0m in \u001b[0;36mban_visibility_plot\u001b[1;34m(good_in, bad_in)\u001b[0m\n\u001b[0;32m     10\u001b[0m     \u001b[0mbad\u001b[0m\u001b[1;33m[\u001b[0m\u001b[1;36m1\u001b[0m\u001b[1;33m]\u001b[0m\u001b[1;33m=\u001b[0m \u001b[0mbad_in\u001b[0m\u001b[1;33m[\u001b[0m\u001b[1;36m1\u001b[0m\u001b[1;33m]\u001b[0m\u001b[1;33m/\u001b[0m\u001b[0msum\u001b[0m\u001b[1;33m(\u001b[0m\u001b[1;33m[\u001b[0m\u001b[0mgood_in\u001b[0m\u001b[1;33m[\u001b[0m\u001b[1;36m1\u001b[0m\u001b[1;33m]\u001b[0m\u001b[1;33m,\u001b[0m \u001b[0mbad_in\u001b[0m\u001b[1;33m[\u001b[0m\u001b[1;36m1\u001b[0m\u001b[1;33m]\u001b[0m\u001b[1;33m]\u001b[0m\u001b[1;33m)\u001b[0m\u001b[1;33m\u001b[0m\u001b[0m\n\u001b[0;32m     11\u001b[0m     \u001b[0mfig\u001b[0m\u001b[1;33m,\u001b[0m \u001b[0max\u001b[0m \u001b[1;33m=\u001b[0m \u001b[0mplt\u001b[0m\u001b[1;33m.\u001b[0m\u001b[0msubplots\u001b[0m\u001b[1;33m(\u001b[0m\u001b[1;33m)\u001b[0m\u001b[1;33m\u001b[0m\u001b[0m\n\u001b[1;32m---> 12\u001b[1;33m     \u001b[0mfig\u001b[0m\u001b[1;33m.\u001b[0m\u001b[0mfigure\u001b[0m\u001b[1;33m(\u001b[0m\u001b[0mfigsize\u001b[0m\u001b[1;33m=\u001b[0m\u001b[1;33m(\u001b[0m\u001b[1;36m8\u001b[0m\u001b[1;33m,\u001b[0m \u001b[1;36m8\u001b[0m\u001b[1;33m)\u001b[0m\u001b[1;33m)\u001b[0m\u001b[1;33m\u001b[0m\u001b[0m\n\u001b[0m\u001b[0;32m     13\u001b[0m \u001b[1;33m\u001b[0m\u001b[0m\n\u001b[0;32m     14\u001b[0m     \u001b[0mind\u001b[0m \u001b[1;33m=\u001b[0m \u001b[0mnp\u001b[0m\u001b[1;33m.\u001b[0m\u001b[0marange\u001b[0m\u001b[1;33m(\u001b[0m\u001b[1;36m2\u001b[0m\u001b[1;33m)\u001b[0m    \u001b[1;31m# the x locations for the groups\u001b[0m\u001b[1;33m\u001b[0m\u001b[0m\n",
      "\u001b[1;31mTypeError\u001b[0m: 'NoneType' object is not callable"
     ]
    },
    {
     "data": {
      "image/png": "[encoded data removed]",
      "text/plain": [
       "<Figure size 432x288 with 1 Axes>"
      ]
     },
     "metadata": {},
     "output_type": "display_data"
    }
   ],
   "source": [
    "good, bad = get_community_ban_visibility_data(player_summaries, player_bans)\n",
    "print(good, bad)\n",
    "ban_visibility_plot(good, bad)"
   ]
  },
  {
   "cell_type": "markdown",
   "metadata": {},
   "source": [
    "### 3. Najmanjkrat odklenjeni dosežki za igrane igre"
   ]
  },
  {
   "cell_type": "code",
   "execution_count": null,
   "metadata": {},
   "outputs": [],
   "source": []
  },
  {
   "cell_type": "markdown",
   "metadata": {},
   "source": [
    "### 4. Število prijateljev glede na \"starost\" računa"
   ]
  },
  {
   "cell_type": "code",
   "execution_count": null,
   "metadata": {},
   "outputs": [],
   "source": []
  },
  {
   "cell_type": "markdown",
   "metadata": {},
   "source": [
    "### 5. Odvisnost med težavnostjo igre in njenim uspehom"
   ]
  },
  {
   "cell_type": "code",
   "execution_count": null,
   "metadata": {},
   "outputs": [],
   "source": []
  },
  {
   "cell_type": "code",
   "execution_count": null,
   "metadata": {},
   "outputs": [],
   "source": []
  },
  {
   "cell_type": "code",
   "execution_count": null,
   "metadata": {},
   "outputs": [],
   "source": []
  }
 ],
 "metadata": {
  "kernelspec": {
   "display_name": "Python 3",
   "language": "python",
   "name": "python3"
  },
  "language_info": {
   "codemirror_mode": {
    "name": "ipython",
    "version": 3
   },
   "file_extension": ".py",
   "mimetype": "text/x-python",
   "name": "python",
   "nbconvert_exporter": "python",
   "pygments_lexer": "ipython3",
   "version": "3.6.4"
  }
 },
 "nbformat": 4,
 "nbformat_minor": 2
}
