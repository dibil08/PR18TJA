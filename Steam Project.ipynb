{
 "cells": [
  {
   "cell_type": "markdown",
   "metadata": {},
   "source": [
    "Sodelujoči\n",
    "\n",
    "    Tomaž Štrus\n",
    "    Anže Košir\n",
    "    Jan Harej\n",
    "\n",
    "O projektu: Iz platforme Steam, namenjenu predvsem za distrubicijo video iger, bomo zbrali podatke igrah več ljudi, ter analizirali stvari kot so npr. koliko iger, ki jih kupijo dejansko preigrajo, kolika časa bo nekdo zapravil za neko igro, kakšno igro bo kupil naslednjo, glede na svoje igre ipd.\n",
    "\n",
    "Podatki: Uporabili bomo API, ki ga ponuja Steam: https://developer.valvesoftware.com/wiki/Steam_Web_API#JSON Tu lahko dobimo podatko o čisto vsemu kar potrebujemo npr. o uporabniku, njegove igre, prijatelji, koliko ur je igral neko igro, ... Dobili bomo podatke za npr. 100.000+ uporabnikov (prijatelji naših prijateljev, in njihov prijateljev itd.)"
   ]
  },
  {
   "cell_type": "markdown",
   "metadata": {},
   "source": [
    "## Vprašanja za raziskavo\n",
    "1. Povprečno dokončanje igre\n",
    "2. Število in vrsta Bannov v povezavi z javnimi/privatnimi profili\n",
    "3. Najmanjkrat odklenjeni dosežki za igrane igre\n",
    "4. Število prijateljev glede na \"starost\" računa"
   ]
  },
  {
   "cell_type": "code",
   "execution_count": 1,
   "metadata": {},
   "outputs": [],
   "source": [
    "from steam_imports import *"
   ]
  },
  {
   "cell_type": "code",
   "execution_count": 2,
   "metadata": {},
   "outputs": [],
   "source": [
    "from data_variables import *"
   ]
  },
  {
   "cell_type": "code",
   "execution_count": 3,
   "metadata": {},
   "outputs": [],
   "source": [
    "from get_functions import *"
   ]
  },
  {
   "cell_type": "code",
   "execution_count": 4,
   "metadata": {},
   "outputs": [],
   "source": [
    "from fill_functions import *"
   ]
  },
  {
   "cell_type": "code",
   "execution_count": 5,
   "metadata": {},
   "outputs": [],
   "source": [
    "from get_read_write import *"
   ]
  },
  {
   "cell_type": "code",
   "execution_count": null,
   "metadata": {},
   "outputs": [],
   "source": []
  },
  {
   "cell_type": "markdown",
   "metadata": {},
   "source": [
    "# Odgovori na vprašanja"
   ]
  },
  {
   "cell_type": "markdown",
   "metadata": {},
   "source": [
    "### 1. Povprečno dokončanje igre"
   ]
  },
  {
   "cell_type": "code",
   "execution_count": null,
   "metadata": {},
   "outputs": [],
   "source": []
  },
  {
   "cell_type": "markdown",
   "metadata": {},
   "source": [
    "### 2. Število in vrsta Bannov v povezavi z javnimi/privatnimi profili"
   ]
  },
  {
   "cell_type": "code",
   "execution_count": null,
   "metadata": {},
   "outputs": [],
   "source": []
  },
  {
   "cell_type": "markdown",
   "metadata": {},
   "source": [
    "### 3. Najmanjkrat odklenjeni dosežki za igrane igre"
   ]
  },
  {
   "cell_type": "code",
   "execution_count": null,
   "metadata": {},
   "outputs": [],
   "source": []
  },
  {
   "cell_type": "markdown",
   "metadata": {},
   "source": [
    "### 4. Število prijateljev glede na \"starost\" računa"
   ]
  },
  {
   "cell_type": "code",
   "execution_count": 6,
   "metadata": {},
   "outputs": [
    {
     "data": {
      "text/plain": [
       "Text(0.5,0,'starost računa (leta)')"
      ]
     },
     "execution_count": 6,
     "metadata": {},
     "output_type": "execute_result"
    },
    {
     "data": {
      "image/png": "[encoded data removed]",
      "text/plain": [
       "<Figure size 432x288 with 1 Axes>"
      ]
     },
     "metadata": {},
     "output_type": "display_data"
    }
   ],
   "source": [
    "graph = dict()\n",
    "today = datetime.datetime.now()\n",
    "\n",
    "for player_id in global_player_ids:\n",
    "    try:\n",
    "        time_created = datetime.datetime.fromtimestamp(int(players_summaries[player_id][\"timecreated\"]))\n",
    "    except KeyError:\n",
    "        continue\n",
    "    \n",
    "    years = today.year - time_created.year\n",
    "    if today.month < time_created.month or (today.month == time_created.month and today.day < time_created.day):\n",
    "        years -= 1\n",
    "        \n",
    "    try:\n",
    "        last_log = players_summaries[player_id][\"lastlogoff\"]\n",
    "    except KeyError:\n",
    "        continue\n",
    "    try:\n",
    "        time_last_log = datetime.datetime.fromtimestamp(int(last_log))\n",
    "    except KeyError:\n",
    "        continue\n",
    "    #if today.month - time_last_log.month <=3 and today.year - time_last_log.year <= 1:     \n",
    "    if years not in graph:\n",
    "        graph[years] = [len(player_friends[player_id]), 1]\n",
    "    else :\n",
    "        su, cnt = graph[years]\n",
    "        graph[years] = [su +len(player_friends[player_id]), cnt+1]\n",
    "\n",
    "graph_x = []\n",
    "graph_y = []\n",
    "        \n",
    "for dat in sorted(graph.items()):\n",
    "    graph_x += [dat[0]]\n",
    "    graph_y += [dat[1][0]/dat[1][1]]\n",
    "    \n",
    "fig = plt.figure()\n",
    "axes = fig.add_axes([0.1, 0.1, 2, 1])\n",
    "axes.bar(graph_x, graph_y)\n",
    "axes.set_ylabel('št. prijateljev')\n",
    "axes.set_xlabel('starost računa (leta)')\n",
    "#axes.set_title('Primerjava žanrov ter njihovih ocen');"
   ]
  },
  {
   "cell_type": "markdown",
   "metadata": {},
   "source": [
    "## 5. Odvisnost med težavnostjo igre in njenim uspehom"
   ]
  },
  {
   "cell_type": "code",
   "execution_count": null,
   "metadata": {},
   "outputs": [],
   "source": []
  }
 ],
 "metadata": {
  "kernelspec": {
   "display_name": "Python 3",
   "language": "python",
   "name": "python3"
  },
  "language_info": {
   "codemirror_mode": {
    "name": "ipython",
    "version": 3
   },
   "file_extension": ".py",
   "mimetype": "text/x-python",
   "name": "python",
   "nbconvert_exporter": "python",
   "pygments_lexer": "ipython3",
   "version": "3.6.4"
  }
 },
 "nbformat": 4,
 "nbformat_minor": 2
}
