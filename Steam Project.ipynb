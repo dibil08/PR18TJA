{
 "cells": [
  {
   "cell_type": "markdown",
   "metadata": {},
   "source": [
    "Sodelujoči\n",
    "\n",
    "    Tomaž Štrus\n",
    "    Anže Košir\n",
    "    Jan Harej\n",
    "\n",
    "O projektu: Iz platforme Steam, namenjenu predvsem za distrubicijo video iger, bomo zbrali podatke igrah več ljudi, ter analizirali stvari kot so npr. koliko iger, ki jih kupijo dejansko preigrajo, kolika časa bo nekdo zapravil za neko igro, kakšno igro bo kupil naslednjo, glede na svoje igre ipd.\n",
    "\n",
    "Podatki: Uporabili bomo API, ki ga ponuja Steam: https://developer.valvesoftware.com/wiki/Steam_Web_API#JSON Tu lahko dobimo podatko o čisto vsemu kar potrebujemo npr. o uporabniku, njegove igre, prijatelji, koliko ur je igral neko igro, ... Dobili bomo podatke za npr. 100.000+ uporabnikov (prijatelji naših prijateljev, in njihov prijateljev itd.)"
   ]
  },
  {
   "cell_type": "markdown",
   "metadata": {},
   "source": [
    "## Vprašanja za raziskavo\n",
    "1. Povprečno dokončanje igre\n",
    "2. Število in vrsta Bannov v povezavi z javnimi/privatnimi profili\n",
    "3. Najmanjkrat odklenjeni dosežki za igrane igre"
   ]
  },
  {
   "cell_type": "code",
   "execution_count": 1,
   "metadata": {},
   "outputs": [
    {
     "data": {
      "text/plain": [
       "'\\n!python -m pip install numpy\\n!python -m pip install matplotlib\\n!python -m pip install requests\\n'"
      ]
     },
     "execution_count": 1,
     "metadata": {},
     "output_type": "execute_result"
    }
   ],
   "source": [
    "#install libraries on windows\n",
    "'''\n",
    "!python -m pip install numpy\n",
    "!python -m pip install matplotlib\n",
    "!python -m pip install requests\n",
    "'''"
   ]
  },
  {
   "cell_type": "code",
   "execution_count": 2,
   "metadata": {},
   "outputs": [],
   "source": [
    "import requests\n",
    "import json\n",
    "import numpy\n",
    "import datetime\n",
    "import os\n",
    "from inspect import getouterframes, currentframe"
   ]
  },
  {
   "cell_type": "code",
   "execution_count": 3,
   "metadata": {},
   "outputs": [],
   "source": [
    "api_key = \"5F5DD2FA8A6C8646FCFE265C07BB90E5\"\n",
    "global_player_ids = set()\n",
    "players_summaries = dict()\n",
    "my_id=\"76561198101569818\""
   ]
  },
  {
   "cell_type": "code",
   "execution_count": 4,
   "metadata": {},
   "outputs": [],
   "source": [
    "def get_player_summary (id):\n",
    "    try:\n",
    "        data = requests.get( \"http://api.steampowered.com/ISteamUser/GetPlayerSummaries/v0002/?key=\"+api_key+\"&steamids=\"+id).json()\n",
    "    except:\n",
    "        return None\n",
    "    return data[\"response\"][\"players\"][0]\n",
    "    \n",
    "def get_multiple_player_summary (ids):\n",
    "    request_str = \"http://api.steampowered.com/ISteamUser/GetPlayerSummaries/v0002/?key=\"+api_key+\"&steamids=\"\n",
    "    for id in ids:\n",
    "        request_str += id+\",\"\n",
    "    request_str = request_str.strip(\",\")\n",
    "    #print(request_str)\n",
    "    try:\n",
    "        data = requests.get(request_str).json()\n",
    "    except:\n",
    "        return None\n",
    "    return data[\"response\"][\"players\"]\n",
    "    "
   ]
  },
  {
   "cell_type": "code",
   "execution_count": 5,
   "metadata": {},
   "outputs": [
    {
     "data": {
      "text/plain": [
       "[{'avatar': 'https://steamcdn-a.akamaihd.net/steamcommunity/public/images/avatars/55/55e86a3f351cf10eefc1699352607f2140fc26ea.jpg',\n",
       "  'avatarfull': 'https://steamcdn-a.akamaihd.net/steamcommunity/public/images/avatars/55/55e86a3f351cf10eefc1699352607f2140fc26ea_full.jpg',\n",
       "  'avatarmedium': 'https://steamcdn-a.akamaihd.net/steamcommunity/public/images/avatars/55/55e86a3f351cf10eefc1699352607f2140fc26ea_medium.jpg',\n",
       "  'communityvisibilitystate': 3,\n",
       "  'lastlogoff': 1523311930,\n",
       "  'loccountrycode': 'SI',\n",
       "  'personaname': 'VenomBlades',\n",
       "  'personastate': 0,\n",
       "  'personastateflags': 0,\n",
       "  'primaryclanid': '103582791432579087',\n",
       "  'profilestate': 1,\n",
       "  'profileurl': 'http://steamcommunity.com/id/VenomBlades/',\n",
       "  'steamid': '76561198012850892',\n",
       "  'timecreated': 1250363859},\n",
       " {'avatar': 'https://steamcdn-a.akamaihd.net/steamcommunity/public/images/avatars/fe/fef49e7fa7e1997310d705b2a6158ff8dc1cdfeb.jpg',\n",
       "  'avatarfull': 'https://steamcdn-a.akamaihd.net/steamcommunity/public/images/avatars/fe/fef49e7fa7e1997310d705b2a6158ff8dc1cdfeb_full.jpg',\n",
       "  'avatarmedium': 'https://steamcdn-a.akamaihd.net/steamcommunity/public/images/avatars/fe/fef49e7fa7e1997310d705b2a6158ff8dc1cdfeb_medium.jpg',\n",
       "  'communityvisibilitystate': 3,\n",
       "  'lastlogoff': 1426344031,\n",
       "  'personaname': 'legendofseoul',\n",
       "  'personastate': 0,\n",
       "  'personastateflags': 0,\n",
       "  'primaryclanid': '103582791429521408',\n",
       "  'profileurl': 'http://steamcommunity.com/profiles/76561198202423736/',\n",
       "  'steamid': '76561198202423736',\n",
       "  'timecreated': 1419608805}]"
      ]
     },
     "execution_count": 5,
     "metadata": {},
     "output_type": "execute_result"
    }
   ],
   "source": [
    "get_player_summary(\"76561198202423736\")\n",
    "get_multiple_player_summary([\"76561198202423736\", \"76561198012850892\"])"
   ]
  },
  {
   "cell_type": "code",
   "execution_count": 6,
   "metadata": {},
   "outputs": [],
   "source": [
    "def get_player_friends(id):\n",
    "    try:\n",
    "        data = requests.get( \"http://api.steampowered.com/ISteamUser/GetFriendList/v0001/?key=\"+api_key+\"&steamid=\"+id+\"&relationship=friend\").json()\n",
    "    except:\n",
    "        return None\n",
    "    return data"
   ]
  },
  {
   "cell_type": "code",
   "execution_count": 7,
   "metadata": {},
   "outputs": [
    {
     "data": {
      "text/plain": [
       "{'friendslist': {'friends': [{'friend_since': 1396456108,\n",
       "    'relationship': 'friend',\n",
       "    'steamid': '76561197992822334'},\n",
       "   {'friend_since': 1508496479,\n",
       "    'relationship': 'friend',\n",
       "    'steamid': '76561198007584342'},\n",
       "   {'friend_since': 1447627152,\n",
       "    'relationship': 'friend',\n",
       "    'steamid': '76561198009469751'},\n",
       "   {'friend_since': 1396454834,\n",
       "    'relationship': 'friend',\n",
       "    'steamid': '76561198012850892'},\n",
       "   {'friend_since': 1440937046,\n",
       "    'relationship': 'friend',\n",
       "    'steamid': '76561198019143410'},\n",
       "   {'friend_since': 1396519168,\n",
       "    'relationship': 'friend',\n",
       "    'steamid': '76561198021259953'},\n",
       "   {'friend_since': 1482788739,\n",
       "    'relationship': 'friend',\n",
       "    'steamid': '76561198023306579'},\n",
       "   {'friend_since': 1392400547,\n",
       "    'relationship': 'friend',\n",
       "    'steamid': '76561198033366594'},\n",
       "   {'friend_since': 1390342420,\n",
       "    'relationship': 'friend',\n",
       "    'steamid': '76561198043441963'},\n",
       "   {'friend_since': 1390129991,\n",
       "    'relationship': 'friend',\n",
       "    'steamid': '76561198045932741'},\n",
       "   {'friend_since': 1485975517,\n",
       "    'relationship': 'friend',\n",
       "    'steamid': '76561198046980777'},\n",
       "   {'friend_since': 1396771297,\n",
       "    'relationship': 'friend',\n",
       "    'steamid': '76561198047413492'},\n",
       "   {'friend_since': 1423866437,\n",
       "    'relationship': 'friend',\n",
       "    'steamid': '76561198049844706'},\n",
       "   {'friend_since': 1390081168,\n",
       "    'relationship': 'friend',\n",
       "    'steamid': '76561198050752491'},\n",
       "   {'friend_since': 1398276867,\n",
       "    'relationship': 'friend',\n",
       "    'steamid': '76561198062144953'},\n",
       "   {'friend_since': 1489002613,\n",
       "    'relationship': 'friend',\n",
       "    'steamid': '76561198062515418'},\n",
       "   {'friend_since': 1392399974,\n",
       "    'relationship': 'friend',\n",
       "    'steamid': '76561198062967316'},\n",
       "   {'friend_since': 1396031264,\n",
       "    'relationship': 'friend',\n",
       "    'steamid': '76561198063277766'},\n",
       "   {'friend_since': 1471724861,\n",
       "    'relationship': 'friend',\n",
       "    'steamid': '76561198067043154'},\n",
       "   {'friend_since': 1390200521,\n",
       "    'relationship': 'friend',\n",
       "    'steamid': '76561198067435473'},\n",
       "   {'friend_since': 1396537233,\n",
       "    'relationship': 'friend',\n",
       "    'steamid': '76561198088543044'},\n",
       "   {'friend_since': 1375706032,\n",
       "    'relationship': 'friend',\n",
       "    'steamid': '76561198094341403'},\n",
       "   {'friend_since': 1503874488,\n",
       "    'relationship': 'friend',\n",
       "    'steamid': '76561198094879341'},\n",
       "   {'friend_since': 1406667091,\n",
       "    'relationship': 'friend',\n",
       "    'steamid': '76561198096007517'},\n",
       "   {'friend_since': 1456330542,\n",
       "    'relationship': 'friend',\n",
       "    'steamid': '76561198104106369'},\n",
       "   {'friend_since': 1491605278,\n",
       "    'relationship': 'friend',\n",
       "    'steamid': '76561198107924004'},\n",
       "   {'friend_since': 1415377608,\n",
       "    'relationship': 'friend',\n",
       "    'steamid': '76561198114352515'},\n",
       "   {'friend_since': 1399651886,\n",
       "    'relationship': 'friend',\n",
       "    'steamid': '76561198118740278'},\n",
       "   {'friend_since': 1396208401,\n",
       "    'relationship': 'friend',\n",
       "    'steamid': '76561198131512770'},\n",
       "   {'friend_since': 1415377599,\n",
       "    'relationship': 'friend',\n",
       "    'steamid': '76561198132033248'},\n",
       "   {'friend_since': 1397240229,\n",
       "    'relationship': 'friend',\n",
       "    'steamid': '76561198132868095'},\n",
       "   {'friend_since': 1412416360,\n",
       "    'relationship': 'friend',\n",
       "    'steamid': '76561198150452996'},\n",
       "   {'friend_since': 1415540842,\n",
       "    'relationship': 'friend',\n",
       "    'steamid': '76561198155836946'},\n",
       "   {'friend_since': 1420491806,\n",
       "    'relationship': 'friend',\n",
       "    'steamid': '76561198172393809'},\n",
       "   {'friend_since': 1421619060,\n",
       "    'relationship': 'friend',\n",
       "    'steamid': '76561198174645730'},\n",
       "   {'friend_since': 1504043435,\n",
       "    'relationship': 'friend',\n",
       "    'steamid': '76561198245677000'},\n",
       "   {'friend_since': 1491605889,\n",
       "    'relationship': 'friend',\n",
       "    'steamid': '76561198260799914'},\n",
       "   {'friend_since': 1491825015,\n",
       "    'relationship': 'friend',\n",
       "    'steamid': '76561198263254821'},\n",
       "   {'friend_since': 1462209210,\n",
       "    'relationship': 'friend',\n",
       "    'steamid': '76561198301768254'},\n",
       "   {'friend_since': 1491512844,\n",
       "    'relationship': 'friend',\n",
       "    'steamid': '76561198347576152'},\n",
       "   {'friend_since': 1481577063,\n",
       "    'relationship': 'friend',\n",
       "    'steamid': '76561198350545774'}]}}"
      ]
     },
     "execution_count": 7,
     "metadata": {},
     "output_type": "execute_result"
    }
   ],
   "source": [
    "get_player_friends(my_id)"
   ]
  },
  {
   "cell_type": "code",
   "execution_count": 8,
   "metadata": {},
   "outputs": [],
   "source": [
    "def fill_player_ids_rec(id, num = 1000, already_called = set()):\n",
    "    global global_player_ids\n",
    "    already_called.add(id)\n",
    "    print(\"recursive call of id: \" + id + \"  len: \" + str(len(global_player_ids)))\n",
    "    try:\n",
    "        if get_player_summary(id)[\"profilestate\"] != 1:\n",
    "            #print(\"not public\")\n",
    "            return None\n",
    "    except KeyError:\n",
    "        #print(\"not public key error\")\n",
    "        return None\n",
    "    try:\n",
    "        data = get_player_friends(id)[\"friendslist\"][\"friends\"]\n",
    "    except KeyError:\n",
    "        #print(\"no friends\")\n",
    "        return None\n",
    "    tmp_id = set()\n",
    "    for friend in data:\n",
    "        if len(global_player_ids) >= num:\n",
    "            print(\"enough friends\")\n",
    "            break\n",
    "        tmp_id.add(friend[\"steamid\"])\n",
    "        global_player_ids.add(friend[\"steamid\"])\n",
    "        #print(\"len: \"+ str(len(global_player_ids)))\n",
    "        \n",
    "    print(\"added my friends\" + \"  len: \" + str(len(global_player_ids)))\n",
    "    \n",
    "    for playerid in tmp_id:\n",
    "        if len(global_player_ids) >= num:\n",
    "            break\n",
    "        try:\n",
    "            data = get_player_friends(playerid)[\"friendslist\"][\"friends\"]\n",
    "        except KeyError:\n",
    "            pass\n",
    "            #print(\"no friends\")\n",
    "        for fof in data:\n",
    "            if len(global_player_ids) >= num:\n",
    "                print(\"enough friends\")\n",
    "                break\n",
    "            global_player_ids.add(fof[\"steamid\"])\n",
    "        #print(\"added friends of friend\")\n",
    "            \n",
    "    print(\"added friends of friends\" + \"  len: \" + str(len(global_player_ids)))\n",
    "    \n",
    "    for playerid in tmp_id:\n",
    "        if len(global_player_ids) >= num:\n",
    "            print(\"enough friends\")\n",
    "            break\n",
    "        if playerid not in already_called:\n",
    "            fill_player_ids_rec(playerid, num, already_called)\n",
    "    \n",
    "    "
   ]
  },
  {
   "cell_type": "code",
   "execution_count": null,
   "metadata": {},
   "outputs": [],
   "source": []
  },
  {
   "cell_type": "code",
   "execution_count": 9,
   "metadata": {},
   "outputs": [],
   "source": [
    "def get_players_summaries():\n",
    "    print(\"halo\")\n",
    "    global global_player_ids\n",
    "    global players_summaries\n",
    "    id_buffer = set()\n",
    "    \n",
    "    for player_id in global_player_ids:\n",
    "        id_buffer.add(player_id)\n",
    "        if len(id_buffer) >= 100:\n",
    "            summaries = get_multiple_player_summary(id_buffer)\n",
    "            for summary in summaries:\n",
    "                players_summaries[summary[\"steamid\"]] = summary\n",
    "            id_buffer = set()\n",
    "            print(\"summaries len: \" + str(len(players_summaries)))\n",
    "    \n",
    "    summaries = get_multiple_player_summary(id_buffer)\n",
    "    \n",
    "    for summary in summaries:\n",
    "        players_summaries[summary[\"steamid\"]] = summary\n",
    "    id_buffer = set()"
   ]
  },
  {
   "cell_type": "code",
   "execution_count": 10,
   "metadata": {},
   "outputs": [
    {
     "name": "stdout",
     "output_type": "stream",
     "text": [
      "10000\n"
     ]
    }
   ],
   "source": [
    "#--------------- request player ids from api ------------------\n",
    "#global_player_ids = set()\n",
    "#fill_player_ids_rec(my_id, 10000)\n",
    "\n",
    "#--------------- request player ids from file -----------------\n",
    "with open(\"pid_set.json\", \"r\") as fp:\n",
    "    global_player_ids = set(json.load(fp))\n",
    "    \n",
    "#------------- request player summary from api ----------------\n",
    "#players_summaries = dict()\n",
    "#get_players_summaries()\n",
    "\n",
    "#------------- request player summary from file ---------------\n",
    "with open(\"player_summaries.json\", \"r\") as fp:\n",
    "    global_player_ids = json.load(fp)\n",
    "\n",
    "\n",
    "global_player_ids\n",
    "print(len(global_player_ids))\n",
    "\n",
    "#----------------- write player ids to file -------------------\n",
    "with open(\"pid_set.json\", \"w\") as fp:\n",
    "    json.dump(list(global_player_ids), fp)\n",
    "    \n",
    "#--------------- write player summary to file -----------------\n",
    "with open(\"player_summaries.json\", \"w\") as fp:\n",
    "    json.dump(players_summaries, fp)"
   ]
  },
  {
   "cell_type": "code",
   "execution_count": null,
   "metadata": {},
   "outputs": [],
   "source": []
  }
 ],
 "metadata": {
  "kernelspec": {
   "display_name": "Python 3",
   "language": "python",
   "name": "python3"
  },
  "language_info": {
   "codemirror_mode": {
    "name": "ipython",
    "version": 3
   },
   "file_extension": ".py",
   "mimetype": "text/x-python",
   "name": "python",
   "nbconvert_exporter": "python",
   "pygments_lexer": "ipython3",
   "version": "3.6.4"
  }
 },
 "nbformat": 4,
 "nbformat_minor": 2
}
