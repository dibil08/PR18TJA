{
 "cells": [
  {
   "cell_type": "markdown",
   "metadata": {},
   "source": [
    "Sodelujoči\n",
    "\n",
    "    Tomaž Štrus\n",
    "    Anže Košir\n",
    "    Jan Harej\n",
    "\n",
    "O projektu: Iz platforme Steam, namenjenu predvsem za distrubicijo video iger, bomo zbrali podatke igrah več ljudi, ter analizirali stvari kot so npr. koliko iger, ki jih kupijo dejansko preigrajo, kolika časa bo nekdo zapravil za neko igro, kakšno igro bo kupil naslednjo, glede na svoje igre ipd.\n",
    "\n",
    "Podatki: Uporabili bomo API, ki ga ponuja Steam: https://developer.valvesoftware.com/wiki/Steam_Web_API#JSON Tu lahko dobimo podatko o čisto vsemu kar potrebujemo npr. o uporabniku, njegove igre, prijatelji, koliko ur je igral neko igro, ... Dobili bomo podatke za npr. 100.000+ uporabnikov (prijatelji naših prijateljev, in njihov prijateljev itd.)\n",
    "\n",
    "\n",
    "API KEY: 5F5DD2FA8A6C8646FCFE265C07BB90E5"
   ]
  },
  {
   "cell_type": "code",
   "execution_count": 1,
   "metadata": {},
   "outputs": [
    {
     "data": {
      "text/plain": [
       "'\\n!python -m pip install numpy\\n!python -m pip install matplotlib\\n!python -m pip install requests\\n'"
      ]
     },
     "execution_count": 1,
     "metadata": {},
     "output_type": "execute_result"
    }
   ],
   "source": [
    "#install libraries on windows\n",
    "'''\n",
    "!python -m pip install numpy\n",
    "!python -m pip install matplotlib\n",
    "!python -m pip install requests\n",
    "'''"
   ]
  },
  {
   "cell_type": "code",
   "execution_count": 2,
   "metadata": {},
   "outputs": [],
   "source": [
    "import requests\n",
    "import json\n",
    "import numpy\n",
    "import datetime\n",
    "import os\n",
    "from inspect import getouterframes, currentframe"
   ]
  },
  {
   "cell_type": "code",
   "execution_count": 3,
   "metadata": {},
   "outputs": [],
   "source": [
    "api_key = \"5F5DD2FA8A6C8646FCFE265C07BB90E5\"\n",
    "global_player_ids = set()\n",
    "my_id=\"76561198101569818\""
   ]
  },
  {
   "cell_type": "code",
   "execution_count": 4,
   "metadata": {},
   "outputs": [],
   "source": [
    "def get_player_summary (id):\n",
    "    data = requests.get( \"http://api.steampowered.com/ISteamUser/GetPlayerSummaries/v0002/?key=\"+api_key+\"&steamids=\"+id).json()\n",
    "    return data\n",
    "    "
   ]
  },
  {
   "cell_type": "code",
   "execution_count": 5,
   "metadata": {},
   "outputs": [
    {
     "data": {
      "text/plain": [
       "{'response': {'players': [{'avatar': 'https://steamcdn-a.akamaihd.net/steamcommunity/public/images/avatars/fe/fef49e7fa7e1997310d705b2a6158ff8dc1cdfeb.jpg',\n",
       "    'avatarfull': 'https://steamcdn-a.akamaihd.net/steamcommunity/public/images/avatars/fe/fef49e7fa7e1997310d705b2a6158ff8dc1cdfeb_full.jpg',\n",
       "    'avatarmedium': 'https://steamcdn-a.akamaihd.net/steamcommunity/public/images/avatars/fe/fef49e7fa7e1997310d705b2a6158ff8dc1cdfeb_medium.jpg',\n",
       "    'communityvisibilitystate': 3,\n",
       "    'lastlogoff': 1426344031,\n",
       "    'personaname': 'legendofseoul',\n",
       "    'personastate': 0,\n",
       "    'personastateflags': 0,\n",
       "    'primaryclanid': '103582791429521408',\n",
       "    'profileurl': 'http://steamcommunity.com/profiles/76561198202423736/',\n",
       "    'steamid': '76561198202423736',\n",
       "    'timecreated': 1419608805}]}}"
      ]
     },
     "execution_count": 5,
     "metadata": {},
     "output_type": "execute_result"
    }
   ],
   "source": [
    "get_player_summary(\"76561198202423736\")"
   ]
  },
  {
   "cell_type": "code",
   "execution_count": 6,
   "metadata": {},
   "outputs": [],
   "source": [
    "def get_player_friends(id):\n",
    "    data = requests.get( \"http://api.steampowered.com/ISteamUser/GetFriendList/v0001/?key=\"+api_key+\"&steamid=\"+id+\"&relationship=friend\").json()\n",
    "    return data"
   ]
  },
  {
   "cell_type": "code",
   "execution_count": 7,
   "metadata": {},
   "outputs": [
    {
     "data": {
      "text/plain": [
       "{'friendslist': {'friends': [{'friend_since': 1396456108,\n",
       "    'relationship': 'friend',\n",
       "    'steamid': '76561197992822334'},\n",
       "   {'friend_since': 1508496479,\n",
       "    'relationship': 'friend',\n",
       "    'steamid': '76561198007584342'},\n",
       "   {'friend_since': 1447627152,\n",
       "    'relationship': 'friend',\n",
       "    'steamid': '76561198009469751'},\n",
       "   {'friend_since': 1396454834,\n",
       "    'relationship': 'friend',\n",
       "    'steamid': '76561198012850892'},\n",
       "   {'friend_since': 1440937046,\n",
       "    'relationship': 'friend',\n",
       "    'steamid': '76561198019143410'},\n",
       "   {'friend_since': 1396519168,\n",
       "    'relationship': 'friend',\n",
       "    'steamid': '76561198021259953'},\n",
       "   {'friend_since': 1482788739,\n",
       "    'relationship': 'friend',\n",
       "    'steamid': '76561198023306579'},\n",
       "   {'friend_since': 1392400547,\n",
       "    'relationship': 'friend',\n",
       "    'steamid': '76561198033366594'},\n",
       "   {'friend_since': 1390342420,\n",
       "    'relationship': 'friend',\n",
       "    'steamid': '76561198043441963'},\n",
       "   {'friend_since': 1390129991,\n",
       "    'relationship': 'friend',\n",
       "    'steamid': '76561198045932741'},\n",
       "   {'friend_since': 1485975517,\n",
       "    'relationship': 'friend',\n",
       "    'steamid': '76561198046980777'},\n",
       "   {'friend_since': 1396771297,\n",
       "    'relationship': 'friend',\n",
       "    'steamid': '76561198047413492'},\n",
       "   {'friend_since': 1423866437,\n",
       "    'relationship': 'friend',\n",
       "    'steamid': '76561198049844706'},\n",
       "   {'friend_since': 1390081168,\n",
       "    'relationship': 'friend',\n",
       "    'steamid': '76561198050752491'},\n",
       "   {'friend_since': 1398276867,\n",
       "    'relationship': 'friend',\n",
       "    'steamid': '76561198062144953'},\n",
       "   {'friend_since': 1489002613,\n",
       "    'relationship': 'friend',\n",
       "    'steamid': '76561198062515418'},\n",
       "   {'friend_since': 1392399974,\n",
       "    'relationship': 'friend',\n",
       "    'steamid': '76561198062967316'},\n",
       "   {'friend_since': 1396031264,\n",
       "    'relationship': 'friend',\n",
       "    'steamid': '76561198063277766'},\n",
       "   {'friend_since': 1471724861,\n",
       "    'relationship': 'friend',\n",
       "    'steamid': '76561198067043154'},\n",
       "   {'friend_since': 1390200521,\n",
       "    'relationship': 'friend',\n",
       "    'steamid': '76561198067435473'},\n",
       "   {'friend_since': 1396537233,\n",
       "    'relationship': 'friend',\n",
       "    'steamid': '76561198088543044'},\n",
       "   {'friend_since': 1375706032,\n",
       "    'relationship': 'friend',\n",
       "    'steamid': '76561198094341403'},\n",
       "   {'friend_since': 1503874488,\n",
       "    'relationship': 'friend',\n",
       "    'steamid': '76561198094879341'},\n",
       "   {'friend_since': 1406667091,\n",
       "    'relationship': 'friend',\n",
       "    'steamid': '76561198096007517'},\n",
       "   {'friend_since': 1456330542,\n",
       "    'relationship': 'friend',\n",
       "    'steamid': '76561198104106369'},\n",
       "   {'friend_since': 1491605278,\n",
       "    'relationship': 'friend',\n",
       "    'steamid': '76561198107924004'},\n",
       "   {'friend_since': 1415377608,\n",
       "    'relationship': 'friend',\n",
       "    'steamid': '76561198114352515'},\n",
       "   {'friend_since': 1399651886,\n",
       "    'relationship': 'friend',\n",
       "    'steamid': '76561198118740278'},\n",
       "   {'friend_since': 1396208401,\n",
       "    'relationship': 'friend',\n",
       "    'steamid': '76561198131512770'},\n",
       "   {'friend_since': 1415377599,\n",
       "    'relationship': 'friend',\n",
       "    'steamid': '76561198132033248'},\n",
       "   {'friend_since': 1397240229,\n",
       "    'relationship': 'friend',\n",
       "    'steamid': '76561198132868095'},\n",
       "   {'friend_since': 1412416360,\n",
       "    'relationship': 'friend',\n",
       "    'steamid': '76561198150452996'},\n",
       "   {'friend_since': 1415540842,\n",
       "    'relationship': 'friend',\n",
       "    'steamid': '76561198155836946'},\n",
       "   {'friend_since': 1420491806,\n",
       "    'relationship': 'friend',\n",
       "    'steamid': '76561198172393809'},\n",
       "   {'friend_since': 1421619060,\n",
       "    'relationship': 'friend',\n",
       "    'steamid': '76561198174645730'},\n",
       "   {'friend_since': 1504043435,\n",
       "    'relationship': 'friend',\n",
       "    'steamid': '76561198245677000'},\n",
       "   {'friend_since': 1491605889,\n",
       "    'relationship': 'friend',\n",
       "    'steamid': '76561198260799914'},\n",
       "   {'friend_since': 1491825015,\n",
       "    'relationship': 'friend',\n",
       "    'steamid': '76561198263254821'},\n",
       "   {'friend_since': 1462209210,\n",
       "    'relationship': 'friend',\n",
       "    'steamid': '76561198301768254'},\n",
       "   {'friend_since': 1491512844,\n",
       "    'relationship': 'friend',\n",
       "    'steamid': '76561198347576152'},\n",
       "   {'friend_since': 1481577063,\n",
       "    'relationship': 'friend',\n",
       "    'steamid': '76561198350545774'}]}}"
      ]
     },
     "execution_count": 7,
     "metadata": {},
     "output_type": "execute_result"
    }
   ],
   "source": [
    "#get_player_friends(\"76561198101569818\")"
   ]
  },
  {
   "cell_type": "code",
   "execution_count": 8,
   "metadata": {},
   "outputs": [],
   "source": [
    "def fill_player_ids_rec(id, num = 1000, already_called = set()):\n",
    "    global global_player_ids\n",
    "    already_called.add(id)\n",
    "    print(\"recursive call of id: \" + id + \"  len: \" + str(len(global_player_ids)))\n",
    "    try:\n",
    "        if get_player_summary(id)[\"response\"][\"players\"][0][\"profilestate\"] != 1:\n",
    "            return None\n",
    "    except KeyError:\n",
    "        return None\n",
    "    try:\n",
    "        data = get_player_friends(id)[\"friendslist\"][\"friends\"]\n",
    "    except KeyError:\n",
    "        return None\n",
    "    tmp_id = set()\n",
    "    for friend in data:\n",
    "        if len(global_player_ids) >= num:\n",
    "            break\n",
    "        tmp_id.add(friend[\"steamid\"])\n",
    "        global_player_ids.add(friend[\"steamid\"])\n",
    "        #print(\"len: \"+ str(len(global_player_ids)))\n",
    "        \n",
    "    for playerid in tmp_id:\n",
    "        if len(global_player_ids) >= num:\n",
    "            break\n",
    "        if playerid not in already_called:\n",
    "            try:\n",
    "                data = get_player_friends(id)[\"friendslist\"][\"friends\"]\n",
    "            except KeyError:\n",
    "                return None\n",
    "            for fof in data:\n",
    "                if len(global_player_ids) >= num:\n",
    "                    break\n",
    "                global_player_ids.add(fof[\"steamid\"])\n",
    "            \n",
    "            \n",
    "    for playerid in tmp_id:\n",
    "        if len(global_player_ids) >= num:\n",
    "            break\n",
    "        if playerid not in already_called:\n",
    "            fill_player_ids_rec(playerid, num, already_called)\n",
    "    \n",
    "    "
   ]
  },
  {
   "cell_type": "code",
   "execution_count": null,
   "metadata": {},
   "outputs": [
    {
     "name": "stdout",
     "output_type": "stream",
     "text": [
      "recursive call of id: 76561198101569818  len: 0\n",
      "recursive call of id: 76561198150452996  len: 41\n",
      "recursive call of id: 76561198132033248  len: 41\n",
      "recursive call of id: 76561198263254821  len: 41\n",
      "recursive call of id: 76561198285300732  len: 44\n",
      "recursive call of id: 76561198195878079  len: 70\n",
      "recursive call of id: 76561198168469682  len: 86\n"
     ]
    }
   ],
   "source": [
    "#global_player_ids = set()\n",
    "fill_player_ids_rec(my_id, 100000)\n",
    "global_player_ids\n",
    "print(len(global_player_ids))"
   ]
  },
  {
   "cell_type": "code",
   "execution_count": null,
   "metadata": {},
   "outputs": [],
   "source": []
  }
 ],
 "metadata": {
  "kernelspec": {
   "display_name": "Python 3",
   "language": "python",
   "name": "python3"
  },
  "language_info": {
   "codemirror_mode": {
    "name": "ipython",
    "version": 3
   },
   "file_extension": ".py",
   "mimetype": "text/x-python",
   "name": "python",
   "nbconvert_exporter": "python",
   "pygments_lexer": "ipython3",
   "version": "3.6.4"
  }
 },
 "nbformat": 4,
 "nbformat_minor": 2
}
