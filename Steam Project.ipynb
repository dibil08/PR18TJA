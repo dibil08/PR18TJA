{
 "cells": [
  {
   "cell_type": "markdown",
   "metadata": {},
   "source": [
    "Sodelujoči\n",
    "\n",
    "    Tomaž Štrus\n",
    "    Anže Košir\n",
    "    Jan Harej\n",
    "\n",
    "O projektu: Iz platforme Steam, namenjenu predvsem za distrubicijo video iger, bomo zbrali podatke igrah več ljudi, ter analizirali stvari kot so npr. koliko iger, ki jih kupijo dejansko preigrajo, kolika časa bo nekdo zapravil za neko igro, kakšno igro bo kupil naslednjo, glede na svoje igre ipd.\n",
    "\n",
    "Podatki: Uporabili bomo API, ki ga ponuja Steam: https://developer.valvesoftware.com/wiki/Steam_Web_API#JSON Tu lahko dobimo podatko o čisto vsemu kar potrebujemo npr. o uporabniku, njegove igre, prijatelji, koliko ur je igral neko igro, ... Dobili bomo podatke za npr. 100.000+ uporabnikov (prijatelji naših prijateljev, in njihov prijateljev itd.)\n",
    "\n",
    "\n",
    "API KEY: 5F5DD2FA8A6C8646FCFE265C07BB90E5"
   ]
  },
  {
   "cell_type": "code",
   "execution_count": 1,
   "metadata": {},
   "outputs": [
    {
     "data": {
      "text/plain": [
       "'\\n!python -m pip install numpy\\n!python -m pip install matplotlib\\n!python -m pip install requests\\n'"
      ]
     },
     "execution_count": 1,
     "metadata": {},
     "output_type": "execute_result"
    }
   ],
   "source": [
    "#install libraries on windows\n",
    "'''\n",
    "!python -m pip install numpy\n",
    "!python -m pip install matplotlib\n",
    "!python -m pip install requests\n",
    "'''"
   ]
  },
  {
   "cell_type": "code",
   "execution_count": 2,
   "metadata": {},
   "outputs": [],
   "source": [
    "import requests\n",
    "import json\n",
    "import numpy\n",
    "import datetime\n",
    "import os\n",
    "from inspect import getouterframes, currentframe"
   ]
  },
  {
   "cell_type": "code",
   "execution_count": 3,
   "metadata": {},
   "outputs": [],
   "source": [
    "api_key = \"5F5DD2FA8A6C8646FCFE265C07BB90E5\"\n",
    "global_player_ids = set()\n",
    "my_id=\"76561198101569818\""
   ]
  },
  {
   "cell_type": "code",
   "execution_count": 4,
   "metadata": {},
   "outputs": [],
   "source": [
    "def get_player_summary (id):\n",
    "    try:\n",
    "        data = requests.get( \"http://api.steampowered.com/ISteamUser/GetPlayerSummaries/v0002/?key=\"+api_key+\"&steamids=\"+id).json()\n",
    "    except:\n",
    "        return None\n",
    "    return data\n",
    "    "
   ]
  },
  {
   "cell_type": "code",
   "execution_count": 5,
   "metadata": {},
   "outputs": [
    {
     "data": {
      "text/plain": [
       "{'response': {'players': [{'avatar': 'https://steamcdn-a.akamaihd.net/steamcommunity/public/images/avatars/fe/fef49e7fa7e1997310d705b2a6158ff8dc1cdfeb.jpg',\n",
       "    'avatarfull': 'https://steamcdn-a.akamaihd.net/steamcommunity/public/images/avatars/fe/fef49e7fa7e1997310d705b2a6158ff8dc1cdfeb_full.jpg',\n",
       "    'avatarmedium': 'https://steamcdn-a.akamaihd.net/steamcommunity/public/images/avatars/fe/fef49e7fa7e1997310d705b2a6158ff8dc1cdfeb_medium.jpg',\n",
       "    'communityvisibilitystate': 3,\n",
       "    'lastlogoff': 1426344031,\n",
       "    'personaname': 'legendofseoul',\n",
       "    'personastate': 0,\n",
       "    'personastateflags': 0,\n",
       "    'primaryclanid': '103582791429521408',\n",
       "    'profileurl': 'http://steamcommunity.com/profiles/76561198202423736/',\n",
       "    'steamid': '76561198202423736',\n",
       "    'timecreated': 1419608805}]}}"
      ]
     },
     "execution_count": 5,
     "metadata": {},
     "output_type": "execute_result"
    }
   ],
   "source": [
    "get_player_summary(\"76561198202423736\")"
   ]
  },
  {
   "cell_type": "code",
   "execution_count": 6,
   "metadata": {},
   "outputs": [],
   "source": [
    "def get_player_friends(id):\n",
    "    try:\n",
    "        data = requests.get( \"http://api.steampowered.com/ISteamUser/GetFriendList/v0001/?key=\"+api_key+\"&steamid=\"+id+\"&relationship=friend\").json()\n",
    "    except:\n",
    "        return None\n",
    "    return data"
   ]
  },
  {
   "cell_type": "code",
   "execution_count": 7,
   "metadata": {},
   "outputs": [],
   "source": [
    "get_player_friends(my_id)"
   ]
  },
  {
   "cell_type": "code",
   "execution_count": 24,
   "metadata": {},
   "outputs": [],
   "source": [
    "def fill_player_ids_rec(id, num = 1000, already_called = set()):\n",
    "    global global_player_ids\n",
    "    already_called.add(id)\n",
    "    print(\"recursive call of id: \" + id + \"  len: \" + str(len(global_player_ids)))\n",
    "    try:\n",
    "        if get_player_summary(id)[\"response\"][\"players\"][0][\"profilestate\"] != 1:\n",
    "            print(\"not public\")\n",
    "            return None\n",
    "    except KeyError:\n",
    "        print(\"not public key error\")\n",
    "        return None\n",
    "    try:\n",
    "        data = get_player_friends(id)[\"friendslist\"][\"friends\"]\n",
    "    except KeyError:\n",
    "        print(\"no friends\")\n",
    "        return None\n",
    "    tmp_id = set()\n",
    "    for friend in data:\n",
    "        if len(global_player_ids) >= num:\n",
    "            print(\"enough friends\")\n",
    "            break\n",
    "        tmp_id.add(friend[\"steamid\"])\n",
    "        global_player_ids.add(friend[\"steamid\"])\n",
    "        #print(\"len: \"+ str(len(global_player_ids)))\n",
    "        \n",
    "    print(\"added my friends\" + \"  len: \" + str(len(global_player_ids)))\n",
    "    \n",
    "    for playerid in tmp_id:\n",
    "        if len(global_player_ids) >= num:\n",
    "            break\n",
    "        try:\n",
    "            data = get_player_friends(playerid)[\"friendslist\"][\"friends\"]\n",
    "        except KeyError:\n",
    "            print(\"no friends\")\n",
    "        for fof in data:\n",
    "            if len(global_player_ids) >= num:\n",
    "                print(\"enough friends\")\n",
    "                break\n",
    "            global_player_ids.add(fof[\"steamid\"])\n",
    "        #print(\"added friends of friend\")\n",
    "            \n",
    "    print(\"added friends of friends\" + \"  len: \" + str(len(global_player_ids)))\n",
    "    \n",
    "    for playerid in tmp_id:\n",
    "        if len(global_player_ids) >= num:\n",
    "            print(\"enough friends\")\n",
    "            break\n",
    "        if playerid not in already_called:\n",
    "            fill_player_ids_rec(playerid, num, already_called)\n",
    "    \n",
    "    "
   ]
  },
  {
   "cell_type": "code",
   "execution_count": null,
   "metadata": {},
   "outputs": [
    {
     "name": "stdout",
     "output_type": "stream",
     "text": [
      "recursive call of id: 76561198101569818  len: 0\n",
      "added my friends  len: 41\n",
      "no friends\n",
      "no friends\n"
     ]
    }
   ],
   "source": [
    "global_player_ids = set()\n",
    "fill_player_ids_rec(my_id, 100000)\n",
    "global_player_ids\n",
    "print(len(global_player_ids))"
   ]
  },
  {
   "cell_type": "code",
   "execution_count": null,
   "metadata": {},
   "outputs": [],
   "source": []
  }
 ],
 "metadata": {
  "kernelspec": {
   "display_name": "Python 3",
   "language": "python",
   "name": "python3"
  },
  "language_info": {
   "codemirror_mode": {
    "name": "ipython",
    "version": 3
   },
   "file_extension": ".py",
   "mimetype": "text/x-python",
   "name": "python",
   "nbconvert_exporter": "python",
   "pygments_lexer": "ipython3",
   "version": "3.6.4"
  }
 },
 "nbformat": 4,
 "nbformat_minor": 2
}
