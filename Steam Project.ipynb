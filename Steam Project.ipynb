{
 "cells": [
  {
   "cell_type": "markdown",
   "metadata": {},
   "source": [
    "Sodelujoči\n",
    "\n",
    "    Tomaž Štrus\n",
    "    Anže Košir\n",
    "    Jan Harej\n",
    "\n",
    "O projektu: Iz platforme Steam, namenjenu predvsem za distrubicijo video iger, bomo zbrali podatke igrah več ljudi, ter analizirali stvari kot so npr. koliko iger, ki jih kupijo dejansko preigrajo, kolika časa bo nekdo zapravil za neko igro, kakšno igro bo kupil naslednjo, glede na svoje igre ipd.\n",
    "\n",
    "Podatki: Uporabili bomo API, ki ga ponuja Steam: https://developer.valvesoftware.com/wiki/Steam_Web_API#JSON Tu lahko dobimo podatko o čisto vsemu kar potrebujemo npr. o uporabniku, njegove igre, prijatelji, koliko ur je igral neko igro, ... Dobili bomo podatke za npr. 100.000+ uporabnikov (prijatelji naših prijateljev, in njihov prijateljev itd.)"
   ]
  },
  {
   "cell_type": "markdown",
   "metadata": {},
   "source": [
    "## Vprašanja za raziskavo\n",
    "1. Povprečno dokončanje igre\n",
    "2. Število in vrsta Bannov v povezavi z javnimi/privatnimi profili\n",
    "3. Najmanjkrat odklenjeni dosežki za igrane igre\n",
    "4. Število prijateljev glede na \"starost\" računa"
   ]
  },
  {
   "cell_type": "code",
   "execution_count": null,
   "metadata": {},
   "outputs": [],
   "source": [
    "#install libraries on windows\n",
    "\"\"\"\n",
    "!python -m pip install numpy\n",
    "!python -m pip install matplotlib\n",
    "!python -m pip install requests\n",
    "\"\"\""
   ]
  },
  {
   "cell_type": "code",
   "execution_count": null,
   "metadata": {},
   "outputs": [],
   "source": [
    "import requests\n",
    "import json\n",
    "import numpy\n",
    "import datetime\n",
    "import matplotlib.pyplot as plt\n",
    "import os\n",
    "from inspect import getouterframes, currentframe"
   ]
  },
  {
   "cell_type": "code",
   "execution_count": null,
   "metadata": {},
   "outputs": [],
   "source": [
    "api_key = \"5F5DD2FA8A6C8646FCFE265C07BB90E5\"\n",
    "global_player_ids = set()\n",
    "players_summaries = dict()\n",
    "my_id=\"76561198101569818\""
   ]
  },
  {
   "cell_type": "code",
   "execution_count": null,
   "metadata": {},
   "outputs": [],
   "source": [
    "def get_player_summary (id):\n",
    "    try:\n",
    "        data = requests.get( \"http://api.steampowered.com/ISteamUser/GetPlayerSummaries/v0002/?key=\"+api_key+\"&steamids=\"+id).json()\n",
    "    except:\n",
    "        return None\n",
    "    return data[\"response\"][\"players\"][0]\n",
    "    \n",
    "def get_multiple_player_summary (ids):\n",
    "    request_str = \"http://api.steampowered.com/ISteamUser/GetPlayerSummaries/v0002/?key=\"+api_key+\"&steamids=\"\n",
    "    request_str += \",\".join(ids)\n",
    "\n",
    "    try:\n",
    "        data = requests.get(request_str).json()\n",
    "    except:\n",
    "        return None\n",
    "    return data[\"response\"][\"players\"]\n",
    "    "
   ]
  },
  {
   "cell_type": "code",
   "execution_count": null,
   "metadata": {},
   "outputs": [],
   "source": [
    "def get_player_friends(id):\n",
    "    try:\n",
    "        data = requests.get( \"http://api.steampowered.com/ISteamUser/GetFriendList/v0001/?key=\" + api_key + \"&steamid=\" + str(id) + \"&relationship=friend\").json()[\"friendslist\"][\"friends\"]\n",
    "    except KeyError:\n",
    "        return []\n",
    "    return data"
   ]
  },
  {
   "cell_type": "code",
   "execution_count": null,
   "metadata": {},
   "outputs": [],
   "source": [
    "get_player_friends(my_id)"
   ]
  },
  {
   "cell_type": "code",
   "execution_count": null,
   "metadata": {},
   "outputs": [],
   "source": [
    "def fill_player_ids_rec(id, num = 1000, already_called = set()):\n",
    "    global global_player_ids\n",
    "    already_called.add(id)\n",
    "    print(\"recursive call of id: \" + id + \"  len: \" + str(len(global_player_ids)))\n",
    "    try:\n",
    "        if get_player_summary(id)[\"profilestate\"] != 1:\n",
    "            #print(\"not public\")\n",
    "            return None\n",
    "    except KeyError:\n",
    "        #print(\"not public key error\")\n",
    "        return None\n",
    "    data = get_player_friends(id)\n",
    "    tmp_id = set()\n",
    "    for friend in data:\n",
    "        if len(global_player_ids) >= num:\n",
    "            print(\"enough friends\")\n",
    "            break\n",
    "        tmp_id.add(friend[\"steamid\"])\n",
    "        global_player_ids.add(friend[\"steamid\"])\n",
    "        #print(\"len: \"+ str(len(global_player_ids)))\n",
    "        \n",
    "    print(\"added my friends\" + \"  len: \" + str(len(global_player_ids)))\n",
    "    \n",
    "    for playerid in tmp_id:\n",
    "        if len(global_player_ids) >= num:\n",
    "            break\n",
    "        data = get_player_friends(playerid)\n",
    "        for fof in data:\n",
    "            if len(global_player_ids) >= num:\n",
    "                print(\"enough friends\")\n",
    "                break\n",
    "            global_player_ids.add(fof[\"steamid\"])\n",
    "        #print(\"added friends of friend\")\n",
    "            \n",
    "    print(\"added friends of friends\" + \"  len: \" + str(len(global_player_ids)))\n",
    "    \n",
    "    for playerid in tmp_id:\n",
    "        if len(global_player_ids) >= num:\n",
    "            print(\"enough friends\")\n",
    "            break\n",
    "        if playerid not in already_called:\n",
    "            fill_player_ids_rec(playerid, num, already_called)\n",
    "    \n",
    "    "
   ]
  },
  {
   "cell_type": "code",
   "execution_count": null,
   "metadata": {},
   "outputs": [],
   "source": [
    "def get_players_summaries():\n",
    "    global global_player_ids\n",
    "    global players_summaries\n",
    "    \n",
    "    player_ids = list(global_player_ids)\n",
    "    for i in range(0, len(player_ids)+1, 100):\n",
    "        tmp_summaries = get_multiple_player_summary(player_ids[i-100:i])\n",
    "        for summary in tmp_summaries:\n",
    "            #summary[\"friends\"] = get_player_friends(summary[\"steamid\"])\n",
    "            players_summaries[summary[\"steamid\"]] = summary\n",
    "        "
   ]
  },
  {
   "cell_type": "code",
   "execution_count": null,
   "metadata": {},
   "outputs": [],
   "source": [
    "#--------------- request player ids from api ------------------\n",
    "#global_player_ids = set()\n",
    "#fill_player_ids_rec(my_id, 10000)\n",
    "\n",
    "#--------------- request player ids from file -----------------\n",
    "with open(\"pid_set.json\", \"r\") as fp:\n",
    "    global_player_ids = set(json.load(fp))\n",
    "    \n",
    "#------------- request player summary from api ----------------\n",
    "#players_summaries = dict()\n",
    "#get_players_summaries()\n",
    "\n",
    "#------------- request player summary from file ---------------\n",
    "with open(\"player_summaries.json\", \"r\") as fp:\n",
    "    players_summaries = json.load(fp)\n",
    "\n",
    "#----------------- write player ids to file -------------------\n",
    "#with open(\"pid_set.json\", \"w\") as fp:\n",
    "#    json.dump(list(global_player_ids), fp)\n",
    "    \n",
    "#--------------- write player summary to file -----------------\n",
    "#with open(\"player_summaries.json\", \"w\") as fp:\n",
    "#    json.dump(players_summaries, fp)"
   ]
  },
  {
   "cell_type": "markdown",
   "metadata": {},
   "source": [
    "# Odgovori na vprašanja"
   ]
  },
  {
   "cell_type": "markdown",
   "metadata": {},
   "source": [
    "### 1. Povprečno dokončanje igre"
   ]
  },
  {
   "cell_type": "code",
   "execution_count": null,
   "metadata": {},
   "outputs": [],
   "source": []
  },
  {
   "cell_type": "markdown",
   "metadata": {},
   "source": [
    "### 2. Število in vrsta Bannov v povezavi z javnimi/privatnimi profili"
   ]
  },
  {
   "cell_type": "code",
   "execution_count": null,
   "metadata": {},
   "outputs": [],
   "source": []
  },
  {
   "cell_type": "markdown",
   "metadata": {},
   "source": [
    "### 3. Najmanjkrat odklenjeni dosežki za igrane igre"
   ]
  },
  {
   "cell_type": "code",
   "execution_count": null,
   "metadata": {},
   "outputs": [],
   "source": []
  },
  {
   "cell_type": "markdown",
   "metadata": {},
   "source": [
    "### 4. Število prijateljev glede na \"starost\" računa"
   ]
  },
  {
   "cell_type": "code",
   "execution_count": null,
   "metadata": {},
   "outputs": [],
   "source": [
    "graph_x = []\n",
    "graph_y = []\n",
    "today = datetime.datetime.now()\n",
    "\n",
    "for player_id in players_summaries:\n",
    "    try:\n",
    "        time_created = datetime.datetime.fromtimestamp(int(players_summaries[player_id][\"timecreated\"]))\n",
    "    except KeyError:\n",
    "        continue\n",
    "    \n",
    "    years = today.year - time_created.year\n",
    "    if today.month < time_created.month or (today.month == time_created.month and today.day < time_created.day):\n",
    "        years -= 1\n",
    "    \n",
    "    graph_x += [years]\n",
    "    graph_y += [len(get_player_friends(player_id))]\n",
    "\n",
    "\n",
    "\n",
    "fig = plt.figure()\n",
    "axes = fig.add_axes([0.1, 0.1, 2, 1])\n",
    "axes.scatter(graph_x, graph_y)\n",
    "axes.set_xlabel('št. prijateljev')\n",
    "axes.set_ylabel('starost računa (leta)')\n",
    "#axes.set_title('Primerjava žanrov ter njihovih ocen');"
   ]
  }
 ],
 "metadata": {
  "kernelspec": {
   "display_name": "Python 3",
   "language": "python",
   "name": "python3"
  },
  "language_info": {
   "codemirror_mode": {
    "name": "ipython",
    "version": 3
   },
   "file_extension": ".py",
   "mimetype": "text/x-python",
   "name": "python",
   "nbconvert_exporter": "python",
   "pygments_lexer": "ipython3",
   "version": "3.5.2"
  }
 },
 "nbformat": 4,
 "nbformat_minor": 2
}
