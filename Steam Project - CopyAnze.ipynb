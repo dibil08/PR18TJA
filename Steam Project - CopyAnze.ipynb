{
 "cells": [
  {
   "cell_type": "markdown",
   "metadata": {},
   "source": [
    "Sodelujoči\n",
    "\n",
    "    Tomaž Štrus\n",
    "    Anže Košir\n",
    "    Jan Harej\n",
    "\n",
    "O projektu: Iz platforme Steam, namenjenu predvsem za distrubicijo video iger, bomo zbrali podatke igrah več ljudi, ter analizirali stvari kot so npr. koliko iger, ki jih kupijo dejansko preigrajo, kolika časa bo nekdo zapravil za neko igro, kakšno igro bo kupil naslednjo, glede na svoje igre ipd.\n",
    "\n",
    "Podatki: Uporabili bomo API, ki ga ponuja Steam: https://developer.valvesoftware.com/wiki/Steam_Web_API#JSON Tu lahko dobimo podatko o čisto vsemu kar potrebujemo npr. o uporabniku, njegove igre, prijatelji, koliko ur je igral neko igro, ... Dobili bomo podatke za npr. 100.000+ uporabnikov (prijatelji naših prijateljev, in njihov prijateljev itd.)"
   ]
  },
  {
   "cell_type": "markdown",
   "metadata": {},
   "source": [
    "## Vprašanja za raziskavo\n",
    "1. Povprečno dokončanje igre\n",
    "2. Število in vrsta Bannov v povezavi z javnimi/privatnimi profili\n",
    "3. Najmanjkrat odklenjeni dosežki za igrane igre\n",
    "4. Število prijateljev glede na \"starost\" računa"
   ]
  },
  {
   "cell_type": "code",
   "execution_count": 1,
   "metadata": {},
   "outputs": [],
   "source": [
    "from scripts.imports import *\n",
    "from scripts.data_variables import *"
   ]
  },
  {
   "cell_type": "code",
   "execution_count": 2,
   "metadata": {},
   "outputs": [],
   "source": [
    "from scripts.get_read_write import *"
   ]
  },
  {
   "cell_type": "code",
   "execution_count": 3,
   "metadata": {
    "scrolled": true
   },
   "outputs": [
    {
     "name": "stdout",
     "output_type": "stream",
     "text": [
      "INFO: reading ids\n",
      "INFO: reading ids finished\n",
      "IDS: 100000\n",
      "INFO: reading summaries\n",
      "INFO: reading summaries finished\n",
      "SUM: 100000\n",
      "INFO: reading friends\n",
      "INFO: reading friends finished\n",
      "FRI: 27626\n",
      "INFO: reading games\n",
      "INFO: reading games finished\n",
      "GAM: 625\n",
      "INFO: reading achievements\n",
      "INFO: reading achievements finished\n",
      "ACH: 110\n",
      "INFO: reading bans\n",
      "INFO: reading bans finished\n",
      "BAN: 100000\n",
      "INFO: reading global game stats\n",
      "INFO: reading global game stats finished\n",
      "IDS: 61693\n",
      "INFO: reading game names\n",
      "INFO: reading game names finished\n",
      "IDS: 61693\n"
     ]
    }
   ],
   "source": [
    "player_ids = read_player_ids()\n",
    "pid_len = len(player_ids)\n",
    "print(\"IDS:\",pid_len)\n",
    "player_summaries = read_player_summaries()\n",
    "sum_len = len(player_summaries)\n",
    "print(\"SUM:\",sum_len)\n",
    "player_friends = read_player_friends()\n",
    "fri_len = len(player_friends)\n",
    "print(\"FRI:\",fri_len)\n",
    "player_games = read_player_games()\n",
    "gam_len = len(player_games)\n",
    "print(\"GAM:\",gam_len)\n",
    "player_achievements = read_player_achievements()\n",
    "ach_len = len(player_achievements)\n",
    "print(\"ACH:\",ach_len)\n",
    "player_bans = read_player_bans()\n",
    "ban_len = len(player_bans)\n",
    "print(\"BAN:\",ban_len)\n",
    "global_game_stats = read_global_game_stats()\n",
    "ggs_len = len(global_game_stats)\n",
    "print(\"IDS:\",ggs_len)\n",
    "game_names = read_game_names()\n",
    "gns_len = len(game_names)\n",
    "print(\"IDS:\",gns_len)"
   ]
  },
  {
   "cell_type": "code",
   "execution_count": null,
   "metadata": {},
   "outputs": [],
   "source": []
  },
  {
   "cell_type": "code",
   "execution_count": null,
   "metadata": {},
   "outputs": [],
   "source": []
  },
  {
   "cell_type": "code",
   "execution_count": 4,
   "metadata": {},
   "outputs": [
    {
     "data": {
      "text/plain": [
       "'76561198101569818'"
      ]
     },
     "execution_count": 4,
     "metadata": {},
     "output_type": "execute_result"
    }
   ],
   "source": [
    "my_id"
   ]
  },
  {
   "cell_type": "code",
   "execution_count": 5,
   "metadata": {},
   "outputs": [
    {
     "data": {
      "text/plain": [
       "{'cb': False,\n",
       " 'dslb': 0,\n",
       " 'eb': 'none',\n",
       " 'id': '76561197960272169',\n",
       " 'nogb': 0,\n",
       " 'novacb': 0,\n",
       " 'vacb': False}"
      ]
     },
     "execution_count": 5,
     "metadata": {},
     "output_type": "execute_result"
    }
   ],
   "source": [
    "player_bans[\"76561197960272169\"]"
   ]
  },
  {
   "cell_type": "markdown",
   "metadata": {},
   "source": [
    "# Odgovori na vprašanja"
   ]
  },
  {
   "cell_type": "markdown",
   "metadata": {},
   "source": [
    "### 1. Povprečno dokončanje igre"
   ]
  },
  {
   "cell_type": "code",
   "execution_count": null,
   "metadata": {},
   "outputs": [],
   "source": []
  },
  {
   "cell_type": "markdown",
   "metadata": {},
   "source": [
    "### 2. Število in vrsta Bannov v povezavi z javnimi/privatnimi profili"
   ]
  },
  {
   "cell_type": "code",
   "execution_count": 6,
   "metadata": {},
   "outputs": [],
   "source": []
  },
  {
   "cell_type": "code",
   "execution_count": null,
   "metadata": {},
   "outputs": [],
   "source": [
    "\n"
   ]
  },
  {
   "cell_type": "code",
   "execution_count": 7,
   "metadata": {},
   "outputs": [
    {
     "data": {
      "image/png": "[encoded data removed]",
      "text/plain": [
       "<Figure size 720x360 with 1 Axes>"
      ]
     },
     "metadata": {},
     "output_type": "display_data"
    }
   ],
   "source": [
    "good, bad = get_community_ban_visibility_data(player_summaries, player_bans)\n",
    "ban_visibility_plot(good, bad, \"community_bans_vis.png\")"
   ]
  },
  {
   "cell_type": "code",
   "execution_count": 8,
   "metadata": {},
   "outputs": [
    {
     "data": {
      "image/png": "[encoded data removed]",
      "text/plain": [
       "<Figure size 720x360 with 1 Axes>"
      ]
     },
     "metadata": {},
     "output_type": "display_data"
    }
   ],
   "source": [
    "good, bad = get_vac_ban_visibility_data(player_summaries, player_bans)\n",
    "ban_visibility_plot(good, bad, \"vac_bans_vis.png\")"
   ]
  },
  {
   "cell_type": "code",
   "execution_count": 9,
   "metadata": {},
   "outputs": [
    {
     "data": {
      "image/png": "[encoded data removed]",
      "text/plain": [
       "<Figure size 720x360 with 1 Axes>"
      ]
     },
     "metadata": {},
     "output_type": "display_data"
    }
   ],
   "source": [
    "good, bad = get_economy_ban_visibility_data(player_summaries, player_bans)\n",
    "ban_visibility_plot(good, bad, \"economy_bans_vis.png\")"
   ]
  },
  {
   "cell_type": "code",
   "execution_count": 11,
   "metadata": {},
   "outputs": [
    {
     "data": {
      "image/png": "[encoded data removed]",
      "text/plain": [
       "<Figure size 720x360 with 1 Axes>"
      ]
     },
     "metadata": {},
     "output_type": "display_data"
    }
   ],
   "source": [
    "good, bad = get_game_ban_visibility_data(player_summaries, player_bans)\n",
    "ban_visibility_plot(good, bad, \"bame_bans_vis.png\")"
   ]
  },
  {
   "cell_type": "code",
   "execution_count": 21,
   "metadata": {},
   "outputs": [],
   "source": [
    "bans_by_country = dict()\n",
    "for pid in player_ids:\n",
    "    try:\n",
    "        country = player_summaries[pid][\"cntry\"]\n",
    "        if country not in bans_by_country:\n",
    "            bans_by_country[country] = {\"ban\" : 0, \"clean\" : 0}\n",
    "            if player_was_banned(player_bans[pid]):\n",
    "                bans_by_country[country][\"ban\"] = bans_by_country[country][\"ban\"]+1\n",
    "            else:\n",
    "                bans_by_country[country][\"clean\"] = bans_by_country[country][\"clean\"]+1\n",
    "        else:\n",
    "            if player_was_banned(player_bans[pid]):\n",
    "                bans_by_country[country][\"ban\"] = bans_by_country[country][\"ban\"]+1\n",
    "            else:\n",
    "                bans_by_country[country][\"clean\"] = bans_by_country[country][\"clean\"]+1\n",
    "    except:\n",
    "        pass\n",
    "\n",
    "    "
   ]
  },
  {
   "cell_type": "code",
   "execution_count": 27,
   "metadata": {},
   "outputs": [
    {
     "name": "stdout",
     "output_type": "stream",
     "text": [
      "{'RO': 0.2554611650485437, 'HU': 0.1872146118721461, 'SI': 0.1118353344768439, 'PL': 0.18051259390190014, 'DE': 0.171875, 'US': 0.15113156885308784, 'AT': 0.14912280701754385, 'AE': 0.24561403508771928, 'TR': 0.17655571635311143, 'NO': 0.17384240454914704, 'SA': 0.15714285714285714, 'MK': 0.14919354838709678, 'SE': 0.17638152914458743, 'AF': 0.25116279069767444, 'PT': 0.10066617320503331, 'BR': 0.1368421052631579, 'IE': 0.13157894736842105, 'BG': 0.13911088911088912, 'CZ': 0.16169828364950317, 'GB': 0.15399705738106914, 'EG': 0.17333333333333334, 'IN': 0.09795918367346938, 'UA': 0.18199802176063304, 'AR': 0.15384615384615385, 'RU': 0.23535772211209227, 'ES': 0.10386965376782077, 'NE': 0.25, 'GD': 0.0, 'CH': 0.11864406779661017, 'HT': 0.15, 'VA': 0.10084033613445378, 'GW': 0.25, 'FI': 0.17256637168141592, 'CA': 0.17495395948434622, 'IL': 0.1939655172413793, 'DK': 0.17024793388429751, 'RS': 0.106544901065449, 'FR': 0.14517265680056377, 'KZ': 0.20909090909090908, 'ME': 0.1, 'NL': 0.1254416961130742, 'UZ': 0.16666666666666666, 'BE': 0.13628318584070798, 'IM': 0.10416666666666667, 'TZ': 0.25, 'PK': 0.16883116883116883, 'LU': 0.1111111111111111, 'TF': 0.4, 'TN': 0.1794871794871795, 'IT': 0.10182370820668693, 'CN': 0.15023474178403756, 'MX': 0.14049586776859505, 'BA': 0.1111111111111111, 'SK': 0.17647058823529413, 'LT': 0.16165413533834586, 'HR': 0.12269938650306748, 'BS': 0.15217391304347827, 'NZ': 0.20689655172413793, 'ID': 0.0364963503649635, 'ZW': 0.1643835616438356, 'LI': 0.043478260869565216, 'KP': 0.13253012048192772, 'IR': 0.3275862068965517, 'AU': 0.16009280742459397, 'TM': 0.13333333333333333, 'GE': 0.20454545454545456, 'UG': 0.17, 'NU': 0.2857142857142857, 'XK': 0.09523809523809523, 'EH': 0.14814814814814814, 'JP': 0.18347338935574228, 'TH': 0.19834710743801653, 'EE': 0.19047619047619047, 'BY': 0.15671641791044777, 'GR': 0.0804953560371517, 'MN': 0.14285714285714285, 'LV': 0.1569767441860465, 'MY': 0.2, 'ZA': 0.11965811965811966, 'LS': 0.0, 'AS': 0.21875, 'DO': 0.07692307692307693, 'BH': 0.3076923076923077, 'MT': 0.048, 'SY': 0.25396825396825395, 'AQ': 0.16, 'SO': 0.21839080459770116, 'KR': 0.17592592592592593, 'MG': 0.058823529411764705, 'GG': 0.16666666666666666, 'VN': 0.25333333333333335, 'SG': 0.14285714285714285, 'PH': 0.09523809523809523, 'TW': 0.16666666666666666, 'CL': 0.05555555555555555, 'MC': 0.1891891891891892, 'FJ': 0.24193548387096775, 'BO': 0.25, 'CX': 0.20930232558139536, 'TC': 0.2, 'HK': 0.11666666666666667, 'SD': 0.07692307692307693, 'JO': 0.1724137931034483, 'KW': 0.21621621621621623, 'AM': 0.1282051282051282, 'LB': 0.14634146341463414, 'PE': 0.08, 'AX': 0.08823529411764706, 'JE': 0.5, 'NI': 0.375, 'RW': 0.08333333333333333, 'IQ': 0.28735632183908044, 'QA': 0.15517241379310345, 'LA': 0.5714285714285714, 'CU': 0.2, 'SZ': 0.2, 'BD': 0.18518518518518517, 'IS': 0.10084033613445378, 'TJ': 0.42857142857142855, 'CO': 0.12162162162162163, 'DZ': 0.22826086956521738, 'PA': 0.19230769230769232, 'UM': 0.24, 'VI': 0.16883116883116883, 'JM': 0.18421052631578946, 'TL': 0.0, 'NG': 0.14754098360655737, 'CV': 0.2222222222222222, 'NP': 0.21052631578947367, 'TV': 0.21428571428571427, 'CY': 0.125, 'AL': 0.19402985074626866, 'GT': 0.2222222222222222, 'MV': 0.16666666666666666, 'MF': 0.3333333333333333, 'VG': 0.16666666666666666, 'MO': 0.1111111111111111, 'BM': 0.21428571428571427, 'AZ': 0.2318840579710145, 'EC': 0.09090909090909091, 'YE': 0.21875, 'TG': 0.16, 'MD': 0.17543859649122806, 'LY': 0.05555555555555555, 'ET': 0.29411764705882354, 'MP': 0.1, 'GS': 0.20967741935483872, 'SV': 0.13043478260869565, 'CC': 0.2, 'TT': 0.375, 'SJ': 0.75, 'KE': 0.11764705882352941, 'PS': 0.23529411764705882, 'CG': 0.16666666666666666, 'SR': 0.2222222222222222, 'TO': 0.4166666666666667, 'WF': 0.35, 'BW': 0.2222222222222222, 'VE': 0.0625, 'FO': 0.17857142857142858, 'NA': 0.2, 'HM': 0.15151515151515152, 'KH': 0.18181818181818182, 'GA': 0.1, 'KG': 0.10526315789473684, 'BV': 0.6666666666666666, 'GP': 0.14285714285714285, 'VC': 0.4444444444444444, 'LC': 0.2222222222222222, 'SN': 0.14285714285714285, 'ZM': 0.125, 'MA': 0.2553191489361702, 'UY': 0.17647058823529413, 'TD': 0.3333333333333333, 'PW': 0.375, 'CR': 0.15, 'FK': 0.0, 'SC': 0.25, 'BB': 0.0, 'RE': 0.25, 'ML': 0.25, 'KY': 0.08333333333333333, 'OM': 0.38095238095238093, 'AD': 0.2, 'FM': 0.16666666666666666, 'SS': 0.2, 'AI': 0.0, 'BQ': 0.2222222222222222, 'IO': 0.3333333333333333, 'MZ': 0.1111111111111111, 'BZ': 0.14285714285714285, 'NC': 0.4444444444444444, 'PY': 0.4, 'SM': 0.21428571428571427, 'CD': 0.15384615384615385, 'GU': 0.25, 'LK': 0.13636363636363635, 'YU': 0.0, 'ER': 0.0, 'AW': 0.18181818181818182, 'SL': 0.16666666666666666, 'PG': 0.0625, 'DJ': 0.2857142857142857, 'SB': 0.5714285714285714, 'KN': 0.3333333333333333, 'BJ': 0.3333333333333333, 'TK': 0.375, 'CM': 0.42857142857142855, 'VU': 0.2857142857142857, 'WS': 0.125, 'DM': 0.3333333333333333, 'CK': 0.21052631578947367, 'MU': 0.25, 'BF': 0.25, 'NF': 0.23529411764705882, 'AG': 0.11764705882352941, 'CF': 0.6, 'AO': 0.23076923076923078, 'PR': 0.16666666666666666, 'PM': 0.5, 'GL': 0.13333333333333333, 'KM': 0.0, 'YT': 0.375, 'HN': 0.3, 'BI': 0.14285714285714285, 'NR': 0.0, 'MH': 0.3333333333333333, 'CI': 0.16666666666666666, 'PF': 0.16666666666666666, 'GQ': 0.0, 'CW': 0.375, 'MS': 1.0, 'MQ': 0.0, 'GH': 0.1, 'MM': 0.0, 'BN': 0.3333333333333333, 'LR': 0.25, 'GI': 0.2, 'GM': 0.4, 'SH': 0.0, 'GY': 0.0, 'GN': 0.0, 'KI': 0.0, 'SX': 0.3333333333333333, 'ST': 0.5, 'BL': 0.5, 'GF': 0.0, 'BT': 0.16666666666666666, 'MR': 0.5, 'PN': 1.0, 'MW': 0.0, 'FX': 0.0}\n"
     ]
    }
   ],
   "source": [
    "country_ban_percentages = dict()\n",
    "for cntry, data in bans_by_country.items():\n",
    "    country_ban_percentages[cntry] = data[\"ban\"]/(data[\"ban\"]+data[\"clean\"])\n",
    "print (country_ban_percentages)\n",
    "    "
   ]
  },
  {
   "cell_type": "markdown",
   "metadata": {},
   "source": [
    "### 3. Najmanjkrat odklenjeni dosežki za igrane igre"
   ]
  },
  {
   "cell_type": "code",
   "execution_count": null,
   "metadata": {},
   "outputs": [],
   "source": [
    "print"
   ]
  },
  {
   "cell_type": "markdown",
   "metadata": {},
   "source": [
    "### 4. Število prijateljev glede na \"starost\" računa"
   ]
  },
  {
   "cell_type": "code",
   "execution_count": null,
   "metadata": {},
   "outputs": [],
   "source": []
  },
  {
   "cell_type": "markdown",
   "metadata": {},
   "source": [
    "### 5. Odvisnost med težavnostjo igre in njenim uspehom"
   ]
  },
  {
   "cell_type": "code",
   "execution_count": null,
   "metadata": {},
   "outputs": [],
   "source": []
  },
  {
   "cell_type": "code",
   "execution_count": null,
   "metadata": {},
   "outputs": [],
   "source": []
  },
  {
   "cell_type": "code",
   "execution_count": null,
   "metadata": {},
   "outputs": [],
   "source": []
  }
 ],
 "metadata": {
  "kernelspec": {
   "display_name": "Python 3",
   "language": "python",
   "name": "python3"
  },
  "language_info": {
   "codemirror_mode": {
    "name": "ipython",
    "version": 3
   },
   "file_extension": ".py",
   "mimetype": "text/x-python",
   "name": "python",
   "nbconvert_exporter": "python",
   "pygments_lexer": "ipython3",
   "version": "3.6.4"
  }
 },
 "nbformat": 4,
 "nbformat_minor": 2
}
