{
 "cells": [
  {
   "cell_type": "markdown",
   "metadata": {},
   "source": [
    "Sodelujoči\n",
    "\n",
    "    Tomaž Štrus\n",
    "    Anže Košir\n",
    "    Jan Harej\n",
    "\n",
    "O projektu: Iz platforme Steam, namenjenu predvsem za distrubicijo video iger, bomo zbrali podatke igrah več ljudi, ter analizirali stvari kot so npr. koliko iger, ki jih kupijo dejansko preigrajo, kolika časa bo nekdo zapravil za neko igro, kakšno igro bo kupil naslednjo, glede na svoje igre ipd.\n",
    "\n",
    "Podatki: Uporabili bomo API, ki ga ponuja Steam: https://developer.valvesoftware.com/wiki/Steam_Web_API#JSON Tu lahko dobimo podatko o čisto vsemu kar potrebujemo npr. o uporabniku, njegove igre, prijatelji, koliko ur je igral neko igro, ... Dobili bomo podatke za npr. 100.000+ uporabnikov (prijatelji naših prijateljev, in njihov prijateljev itd.)"
   ]
  },
  {
   "cell_type": "markdown",
   "metadata": {},
   "source": [
    "## Vprašanja za raziskavo\n",
    "1. Povprečno dokončanje igre\n",
    "2. Število in vrsta Bannov v povezavi z javnimi/privatnimi profili\n",
    "3. Najmanjkrat odklenjeni dosežki za igrane igre\n",
    "4. Število prijateljev glede na \"starost\" računa"
   ]
  },
  {
   "cell_type": "code",
   "execution_count": 1,
   "metadata": {},
   "outputs": [
    {
     "data": {
      "text/plain": [
       "'\\n!python -m pip install panda\\n!python -m pip3 install matplotlib\\n!python -m pip install numpy\\n!python -m pip install matplotlib\\n!python -m pip install requests\\n'"
      ]
     },
     "execution_count": 1,
     "metadata": {},
     "output_type": "execute_result"
    }
   ],
   "source": [
    "#install libraries on windows\n",
    "\"\"\"\n",
    "!python -m pip install panda\n",
    "!python -m pip3 install matplotlib\n",
    "!python -m pip install numpy\n",
    "!python -m pip install matplotlib\n",
    "!python -m pip install requests\n",
    "\"\"\""
   ]
  },
  {
   "cell_type": "code",
   "execution_count": 2,
   "metadata": {},
   "outputs": [],
   "source": [
    "import requests\n",
    "import json\n",
    "import numpy\n",
    "import datetime\n",
    "import matplotlib.pyplot as plt\n",
    "import os\n",
    "import collections\n",
    "from inspect import getouterframes, currentframe"
   ]
  },
  {
   "cell_type": "code",
   "execution_count": 3,
   "metadata": {},
   "outputs": [],
   "source": [
    "api_key = \"5F5DD2FA8A6C8646FCFE265C07BB90E5\"\n",
    "global_player_ids = set()\n",
    "players_summaries = dict()\n",
    "player_friends = dict()\n",
    "player_games = dict()\n",
    "player_games = dict()\n",
    "player_achievements = dict()\n",
    "my_id=\"76561198101569818\""
   ]
  },
  {
   "cell_type": "code",
   "execution_count": 4,
   "metadata": {},
   "outputs": [],
   "source": [
    "def get_player_summary (id):\n",
    "    try:\n",
    "        data = requests.get( \"http://api.steampowered.com/ISteamUser/GetPlayerSummaries/v0002/?key=\"+api_key+\"&steamids=\"+id).json()\n",
    "    except:\n",
    "        return None\n",
    "    return data[\"response\"][\"players\"][0]\n",
    "    \n",
    "def get_multiple_player_summary (ids):\n",
    "    request_str = \"http://api.steampowered.com/ISteamUser/GetPlayerSummaries/v0002/?key=\"+api_key+\"&steamids=\"\n",
    "    request_str += \",\".join(ids)\n",
    "\n",
    "    try:\n",
    "        data = requests.get(request_str).json()\n",
    "    except:\n",
    "        return None\n",
    "    return data[\"response\"][\"players\"]\n",
    "    "
   ]
  },
  {
   "cell_type": "code",
   "execution_count": 5,
   "metadata": {},
   "outputs": [],
   "source": [
    "def get_player_friends(id):\n",
    "    try:\n",
    "        data = requests.get( \"http://api.steampowered.com/ISteamUser/GetFriendList/v0001/?key=\" + api_key + \"&steamid=\" + str(id) + \"&relationship=friend\").json()[\"friendslist\"][\"friends\"]\n",
    "    except KeyError:\n",
    "        return []\n",
    "    return data"
   ]
  },
  {
   "cell_type": "code",
   "execution_count": 6,
   "metadata": {},
   "outputs": [],
   "source": [
    "def get_owned_games(id):\n",
    "    try:\n",
    "        data = requests.get( \"http://api.steampowered.com/IPlayerService/GetOwnedGames/v0001/?key=\" + api_key + \"&steamid=\" + str(id)).json()[\"response\"]\n",
    "    except KeyError:\n",
    "        return []\n",
    "    return data"
   ]
  },
  {
   "cell_type": "code",
   "execution_count": 7,
   "metadata": {},
   "outputs": [
    {
     "name": "stdout",
     "output_type": "stream",
     "text": [
      "{'steamid': '76561198024756463', 'communityvisibilitystate': 3, 'profilestate': 1, 'personaname': 'Pwnisher', 'lastlogoff': 1396960546, 'profileurl': 'https://steamcommunity.com/profiles/76561198024756463/', 'avatar': 'https://steamcdn-a.akamaihd.net/steamcommunity/public/images/avatars/95/95e60b4ec1a85412b433238966e93cc184cc9ec7.jpg', 'avatarmedium': 'https://steamcdn-a.akamaihd.net/steamcommunity/public/images/avatars/95/95e60b4ec1a85412b433238966e93cc184cc9ec7_medium.jpg', 'avatarfull': 'https://steamcdn-a.akamaihd.net/steamcommunity/public/images/avatars/95/95e60b4ec1a85412b433238966e93cc184cc9ec7_full.jpg', 'personastate': 0, 'realname': 'Lan Rahne', 'primaryclanid': '103582791432130426', 'timecreated': 1273330464, 'personastateflags': 0, 'loccountrycode': 'SI'}\n"
     ]
    }
   ],
   "source": [
    "print(get_player_summary(\"76561198024756463\"))"
   ]
  },
  {
   "cell_type": "code",
   "execution_count": 8,
   "metadata": {},
   "outputs": [],
   "source": [
    "def get_achievements_for_player_game(id, appid):\n",
    "    data = requests.get( \"http://api.steampowered.com/ISteamUserStats/GetPlayerAchievements/v0001/?appid=\" + str(appid) + \"&key=\" + api_key + \"&steamid=\" + str(id)).json()\n",
    "    return data"
   ]
  },
  {
   "cell_type": "code",
   "execution_count": 9,
   "metadata": {},
   "outputs": [],
   "source": [
    "#get_achievements_for_player_game(my_id, 620)"
   ]
  },
  {
   "cell_type": "code",
   "execution_count": 10,
   "metadata": {},
   "outputs": [],
   "source": [
    "def fill_player_ids_rec(id, num = 1000, already_called = set()):\n",
    "    global global_player_ids\n",
    "    already_called.add(id)\n",
    "    print(\"recursive call of id: \" + id + \"  len: \" + str(len(global_player_ids)))\n",
    "    try:\n",
    "        if get_player_summary(id)[\"profilestate\"] != 1:\n",
    "            #print(\"not public\")\n",
    "            return None\n",
    "    except KeyError:\n",
    "        #print(\"not public key error\")\n",
    "        return None\n",
    "    data = get_player_friends(id)\n",
    "    tmp_id = set()\n",
    "    for friend in data:\n",
    "        if len(global_player_ids) >= num:\n",
    "            print(\"enough friends\")\n",
    "            break\n",
    "        tmp_id.add(friend[\"steamid\"])\n",
    "        global_player_ids.add(friend[\"steamid\"])\n",
    "        #print(\"len: \"+ str(len(global_player_ids)))\n",
    "        \n",
    "    print(\"added my friends\" + \"  len: \" + str(len(global_player_ids)))\n",
    "    \n",
    "    for playerid in tmp_id:\n",
    "        if len(global_player_ids) >= num:\n",
    "            break\n",
    "        data = get_player_friends(playerid)\n",
    "        for fof in data:\n",
    "            if len(global_player_ids) >= num:\n",
    "                print(\"enough friends\")\n",
    "                break\n",
    "            global_player_ids.add(fof[\"steamid\"])\n",
    "        #print(\"added friends of friend\")\n",
    "            \n",
    "    print(\"added friends of friends\" + \"  len: \" + str(len(global_player_ids)))\n",
    "    \n",
    "    for playerid in tmp_id:\n",
    "        if len(global_player_ids) >= num:\n",
    "            print(\"enough friends\")\n",
    "            break\n",
    "        if playerid not in already_called:\n",
    "            fill_player_ids_rec(playerid, num, already_called)\n",
    "    \n",
    "    "
   ]
  },
  {
   "cell_type": "code",
   "execution_count": 11,
   "metadata": {},
   "outputs": [],
   "source": [
    "def fill_players_summaries():\n",
    "    global global_player_ids\n",
    "    global players_summaries\n",
    "    \n",
    "    player_ids = list(global_player_ids)\n",
    "    for i in range(0, len(player_ids)+1, 100):\n",
    "        tmp_summaries = get_multiple_player_summary(player_ids[i-100:i])\n",
    "        for summary in tmp_summaries:\n",
    "            #summary[\"friends\"] = get_player_friends(summary[\"steamid\"])\n",
    "            players_summaries[summary[\"steamid\"]] = summary\n",
    "        "
   ]
  },
  {
   "cell_type": "code",
   "execution_count": 12,
   "metadata": {},
   "outputs": [],
   "source": [
    "def fill_players_friends():\n",
    "    global player_friends\n",
    "    global players_summaries\n",
    "    for player in players_summaries.keys():\n",
    "        player_friends[player] = get_player_friends(player)\n",
    "        print(len(player_friends))\n",
    "    print(\"done\")"
   ]
  },
  {
   "cell_type": "code",
   "execution_count": 13,
   "metadata": {},
   "outputs": [],
   "source": [
    "def fill_players_games():\n",
    "    global player_games\n",
    "    for player_id in global_player_ids:\n",
    "        player_games[player_id] = get_owned_games(player_id)\n",
    "        \n",
    "    "
   ]
  },
  {
   "cell_type": "code",
   "execution_count": 14,
   "metadata": {},
   "outputs": [],
   "source": [
    "def fill_players_achievements():\n",
    "    global player_achievements\n",
    "    for player_id in global_player_ids:\n",
    "        if len(player_games[player_id]) == 0:\n",
    "            player_achievements[player_id] = set()\n",
    "        else:\n",
    "            for game in player_games[player_id]['games']:\n",
    "                print(game)\n",
    "            "
   ]
  },
  {
   "cell_type": "code",
   "execution_count": 15,
   "metadata": {},
   "outputs": [],
   "source": [
    "fill_players_achievements()"
   ]
  },
  {
   "cell_type": "code",
   "execution_count": 16,
   "metadata": {},
   "outputs": [],
   "source": [
    "#player_games[my_id]"
   ]
  },
  {
   "cell_type": "code",
   "execution_count": 19,
   "metadata": {},
   "outputs": [
    {
     "data": {
      "text/plain": [
       "{}"
      ]
     },
     "execution_count": 19,
     "metadata": {},
     "output_type": "execute_result"
    }
   ],
   "source": [
    "get_owned_games(my_id)"
   ]
  },
  {
   "cell_type": "code",
   "execution_count": 17,
   "metadata": {},
   "outputs": [
    {
     "ename": "FileNotFoundError",
     "evalue": "[Errno 2] No such file or directory: 'pid_set.json'",
     "output_type": "error",
     "traceback": [
      "\u001b[1;31m---------------------------------------------------------------------------\u001b[0m",
      "\u001b[1;31mFileNotFoundError\u001b[0m                         Traceback (most recent call last)",
      "\u001b[1;32m<ipython-input-17-6fbb056651cb>\u001b[0m in \u001b[0;36m<module>\u001b[1;34m()\u001b[0m\n\u001b[0;32m      4\u001b[0m \u001b[1;33m\u001b[0m\u001b[0m\n\u001b[0;32m      5\u001b[0m \u001b[1;31m#--------------- request player ids from file -----------------\u001b[0m\u001b[1;33m\u001b[0m\u001b[1;33m\u001b[0m\u001b[0m\n\u001b[1;32m----> 6\u001b[1;33m \u001b[1;32mwith\u001b[0m \u001b[0mopen\u001b[0m\u001b[1;33m(\u001b[0m\u001b[1;34m\"pid_set.json\"\u001b[0m\u001b[1;33m,\u001b[0m \u001b[1;34m\"r\"\u001b[0m\u001b[1;33m)\u001b[0m \u001b[1;32mas\u001b[0m \u001b[0mfp\u001b[0m\u001b[1;33m:\u001b[0m\u001b[1;33m\u001b[0m\u001b[0m\n\u001b[0m\u001b[0;32m      7\u001b[0m     \u001b[0mglobal_player_ids\u001b[0m \u001b[1;33m=\u001b[0m \u001b[0mset\u001b[0m\u001b[1;33m(\u001b[0m\u001b[0mjson\u001b[0m\u001b[1;33m.\u001b[0m\u001b[0mload\u001b[0m\u001b[1;33m(\u001b[0m\u001b[0mfp\u001b[0m\u001b[1;33m)\u001b[0m\u001b[1;33m)\u001b[0m\u001b[1;33m\u001b[0m\u001b[0m\n\u001b[0;32m      8\u001b[0m \u001b[1;33m\u001b[0m\u001b[0m\n",
      "\u001b[1;31mFileNotFoundError\u001b[0m: [Errno 2] No such file or directory: 'pid_set.json'"
     ]
    }
   ],
   "source": [
    "#--------------- request player ids from api ------------------ DONE\n",
    "#global_player_ids = set()\n",
    "#fill_player_ids_rec(my_id, 1000)\n",
    "\n",
    "#--------------- request player ids from file -----------------\n",
    "with open(\"pid_set.json\", \"r\") as fp:\n",
    "    global_player_ids = set(json.load(fp))\n",
    "    \n",
    "#------------- request player summary from api ---------------- DONE\n",
    "#players_summaries = dict()\n",
    "#fill_players_summaries()\n",
    "\n",
    "#------------- request player summary from file ---------------\n",
    "with open(\"player_summaries.json\", \"r\") as fp:\n",
    "    players_summaries = json.load(fp)\n",
    "    \n",
    "#------------- request player friends from api ---------------- DONE\n",
    "#player_friends = dict()\n",
    "#fill_players_friends()\n",
    "\n",
    "#------------- request player friends from file ---------------\n",
    "with open(\"player_friends.json\", \"r\") as fp:\n",
    "    player_friends = json.load(fp)\n",
    "\n",
    "#------------ request player game data from api --------------- DONE\n",
    "#player_games = dict()\n",
    "#fill_players_games()\n",
    "\n",
    "#------------ request player game data from file --------------\n",
    "with open(\"player_games.json\", \"r\") as fp:\n",
    "    player_games = json.load(fp)\n",
    "\n",
    "'''\n",
    "#----------------- write player ids to file -------------------\n",
    "with open(\"pid_set.json\", \"w\") as fp:\n",
    "    json.dump(list(global_player_ids), fp)\n",
    "    \n",
    "#--------------- write player summary to file -----------------\n",
    "with open(\"player_summaries.json\", \"w\") as fp:\n",
    "    json.dump(players_summaries, fp)\n",
    "\n",
    "#--------------- write player friends to file -----------------\n",
    "with open(\"player_friends.json\", \"w\") as fp:\n",
    "    json.dump(player_friends, fp)\n",
    "    '''\n",
    "    \n",
    "#--------------- write player games to file -----------------\n",
    "with open(\"player_games.json\", \"w\") as fp:\n",
    "    json.dump(player_games, fp)\n"
   ]
  },
  {
   "cell_type": "code",
   "execution_count": null,
   "metadata": {},
   "outputs": [],
   "source": [
    "#print(players_summaries[\"76561198207785297\"])"
   ]
  },
  {
   "cell_type": "markdown",
   "metadata": {},
   "source": [
    "# Odgovori na vprašanja"
   ]
  },
  {
   "cell_type": "markdown",
   "metadata": {},
   "source": [
    "0- Najbolj igrana igra"
   ]
  },
  {
   "cell_type": "code",
   "execution_count": null,
   "metadata": {
    "scrolled": false
   },
   "outputs": [],
   "source": [
    "#Total play time over all users for single game\n",
    "globalGamePlayTime=dict()\n",
    "numberOfPlayersForGame=dict()\n",
    "#File total play time\n",
    "for user in player_games:\n",
    "    if(player_games[user]!={} and player_games[user]['game_count']!=0):\n",
    "        for game_info in player_games[user][\"games\"]:\n",
    "            if( game_info['appid'] not in globalGamePlayTime):\n",
    "                globalGamePlayTime[game_info['appid']]=game_info['playtime_forever']\n",
    "                numberOfPlayersForGame[game_info['appid']]=1\n",
    "            else:\n",
    "                globalGamePlayTime[game_info['appid']]+=game_info['playtime_forever']\n",
    "                numberOfPlayersForGame[game_info['appid']]+=1\n",
    "\n",
    "#print(globalGamePlayTime)\n",
    "                \n",
    "Top100sortedTotalPlaytime= sorted(globalGamePlayTime.items(), key=lambda x: x[1], reverse=True)[0:10]\n",
    "Top100BoughtGames= sorted(numberOfPlayersForGame.items(), key=lambda x: x[1], reverse=True)[0:100]"
   ]
  },
  {
   "cell_type": "code",
   "execution_count": null,
   "metadata": {},
   "outputs": [],
   "source": [
    "import matplotlib.pyplot as plt\n",
    "import numpy as np\n",
    "\n",
    "# Fixing random state for reproducibility\n",
    "games=[]\n",
    "playtimes=[]\n",
    "for game,playtime in Top100sortedTotalPlaytime:\n",
    "    games.append(str(game))\n",
    "    playtimes.append(playtime/60)\n",
    "print(Top100sortedTotalPlaytime)\n",
    "y_pos = np.arange(len(games))\n",
    "plt.figure(figsize=(15,25))\n",
    "plt.barh(games,playtimes, align='center', alpha=0.5)\n",
    "#plt.yticks(y_pos, games)\n",
    "plt.xlabel(\"Playtime in hours\")\n",
    "plt.title('Št. ur za posamezno igro')\n",
    "plt.show()"
   ]
  },
  {
   "cell_type": "code",
   "execution_count": null,
   "metadata": {},
   "outputs": [],
   "source": [
    "games=[]\n",
    "gameCount=[]\n",
    "for game,numgames in Top100BoughtGames:\n",
    "    games.append(str(game))\n",
    "    gameCount.append(numgames)\n",
    "y_pos = np.arange(len(games))\n",
    "plt.figure(figsize=(15,25))\n",
    "plt.barh(games,gameCount, align='center', alpha=0.5)\n",
    "#plt.yticks(y_pos, games)\n",
    "plt.xlabel(\"Playtime in hours\")\n",
    "plt.title('Št. ur za posamezno igro')\n",
    "plt.show()"
   ]
  },
  {
   "cell_type": "markdown",
   "metadata": {},
   "source": [
    "### 1. Povprečno dokončanje igre"
   ]
  },
  {
   "cell_type": "code",
   "execution_count": null,
   "metadata": {},
   "outputs": [],
   "source": []
  },
  {
   "cell_type": "markdown",
   "metadata": {},
   "source": [
    "### 2. Število in vrsta Bannov v povezavi z javnimi/privatnimi profili"
   ]
  },
  {
   "cell_type": "code",
   "execution_count": null,
   "metadata": {},
   "outputs": [],
   "source": []
  },
  {
   "cell_type": "markdown",
   "metadata": {},
   "source": [
    "### 3. Najmanjkrat odklenjeni dosežki za igrane igre"
   ]
  },
  {
   "cell_type": "code",
   "execution_count": null,
   "metadata": {},
   "outputs": [],
   "source": []
  },
  {
   "cell_type": "markdown",
   "metadata": {},
   "source": [
    "### 4. Število prijateljev glede na \"starost\" računa"
   ]
  },
  {
   "cell_type": "code",
   "execution_count": null,
   "metadata": {},
   "outputs": [],
   "source": [
    "graph = dict()\n",
    "today = datetime.datetime.now()\n",
    "\n",
    "for player_id in global_player_ids:\n",
    "    try:\n",
    "        time_created = datetime.datetime.fromtimestamp(int(players_summaries[player_id][\"timecreated\"]))\n",
    "    except KeyError:\n",
    "        continue\n",
    "    \n",
    "    years = today.year - time_created.year\n",
    "    if today.month < time_created.month or (today.month == time_created.month and today.day < time_created.day):\n",
    "        years -= 1\n",
    "        \n",
    "    try:\n",
    "        last_log = players_summaries[player_id][\"lastlogoff\"]\n",
    "    except KeyError:\n",
    "        continue\n",
    "    try:\n",
    "        time_last_log = datetime.datetime.fromtimestamp(int(last_log))\n",
    "    except KeyError:\n",
    "        continue\n",
    "    #if today.month - time_last_log.month <=3 and today.year - time_last_log.year <= 1:     \n",
    "    if years not in graph:\n",
    "        graph[years] = [len(player_friends[player_id]), 1]\n",
    "    else :\n",
    "        su, cnt = graph[years]\n",
    "        graph[years] = [su +len(player_friends[player_id]), cnt+1]\n",
    "\n",
    "graph_x = []\n",
    "graph_y = []\n",
    "        \n",
    "for dat in sorted(graph.items()):\n",
    "    graph_x += [dat[0]]\n",
    "    graph_y += [dat[1][0]/dat[1][1]]\n",
    "    \n",
    "fig = plt.figure()\n",
    "axes = fig.add_axes([0.1, 0.1, 2, 1])\n",
    "axes.bar(graph_x, graph_y)\n",
    "axes.set_ylabel('št. prijateljev')\n",
    "axes.set_xlabel('starost računa (leta)')\n",
    "#axes.set_title('Primerjava žanrov ter njihovih ocen');"
   ]
  },
  {
   "cell_type": "markdown",
   "metadata": {},
   "source": [
    "## 5. Odvisnost med težavnostjo igre in njenim uspehom"
   ]
  },
  {
   "cell_type": "code",
   "execution_count": null,
   "metadata": {},
   "outputs": [],
   "source": []
  }
 ],
 "metadata": {
  "kernelspec": {
   "display_name": "Python 3",
   "language": "python",
   "name": "python3"
  },
  "language_info": {
   "codemirror_mode": {
    "name": "ipython",
    "version": 3
   },
   "file_extension": ".py",
   "mimetype": "text/x-python",
   "name": "python",
   "nbconvert_exporter": "python",
   "pygments_lexer": "ipython3",
   "version": "3.6.4"
  }
 },
 "nbformat": 4,
 "nbformat_minor": 2
}
